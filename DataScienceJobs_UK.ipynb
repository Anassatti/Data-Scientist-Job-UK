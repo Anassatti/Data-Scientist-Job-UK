{
 "cells": [
  {
   "cell_type": "code",
   "execution_count": 309,
   "metadata": {},
   "outputs": [],
   "source": [
    "import pandas as pd"
   ]
  },
  {
   "cell_type": "code",
   "execution_count": 310,
   "metadata": {},
   "outputs": [
    {
     "data": {
      "text/html": [
       "<div>\n",
       "<style scoped>\n",
       "    .dataframe tbody tr th:only-of-type {\n",
       "        vertical-align: middle;\n",
       "    }\n",
       "\n",
       "    .dataframe tbody tr th {\n",
       "        vertical-align: top;\n",
       "    }\n",
       "\n",
       "    .dataframe thead th {\n",
       "        text-align: right;\n",
       "    }\n",
       "</style>\n",
       "<table border=\"1\" class=\"dataframe\">\n",
       "  <thead>\n",
       "    <tr style=\"text-align: right;\">\n",
       "      <th></th>\n",
       "      <th>Title</th>\n",
       "      <th>Location</th>\n",
       "      <th>Company</th>\n",
       "      <th>Salary</th>\n",
       "      <th>Description</th>\n",
       "    </tr>\n",
       "  </thead>\n",
       "  <tbody>\n",
       "    <tr>\n",
       "      <th>0</th>\n",
       "      <td>Data Scientist</td>\n",
       "      <td>Bromley</td>\n",
       "      <td>OSTC</td>\n",
       "      <td>NaN</td>\n",
       "      <td>Company Description\\r\\nIn just over 15 years, ...</td>\n",
       "    </tr>\n",
       "    <tr>\n",
       "      <th>1</th>\n",
       "      <td>Biostatistician / Data Scientist - Innovative ...</td>\n",
       "      <td>London</td>\n",
       "      <td>Warman O'Brien</td>\n",
       "      <td>NaN</td>\n",
       "      <td>Biostatistician / Data Scientist - London\\r\\nI...</td>\n",
       "    </tr>\n",
       "    <tr>\n",
       "      <th>2</th>\n",
       "      <td>Data Scientist</td>\n",
       "      <td>London</td>\n",
       "      <td>ctrlio Ltd</td>\n",
       "      <td>NaN</td>\n",
       "      <td>ctrlio helps motor insurers win customers more...</td>\n",
       "    </tr>\n",
       "    <tr>\n",
       "      <th>3</th>\n",
       "      <td>Junior Data Scientist</td>\n",
       "      <td>London</td>\n",
       "      <td>Novafutur</td>\n",
       "      <td>NaN</td>\n",
       "      <td>This is an opportunity to become a Data Scient...</td>\n",
       "    </tr>\n",
       "    <tr>\n",
       "      <th>4</th>\n",
       "      <td>Data Scientist Lead</td>\n",
       "      <td>London</td>\n",
       "      <td>JPMorgan Chase Bank, N.A.</td>\n",
       "      <td>NaN</td>\n",
       "      <td>Position Overview &amp; Responsibilities:\\r\\nThis ...</td>\n",
       "    </tr>\n",
       "  </tbody>\n",
       "</table>\n",
       "</div>"
      ],
      "text/plain": [
       "                                               Title Location  \\\n",
       "0                                     Data Scientist  Bromley   \n",
       "1  Biostatistician / Data Scientist - Innovative ...   London   \n",
       "2                                     Data Scientist   London   \n",
       "3                              Junior Data Scientist   London   \n",
       "4                                Data Scientist Lead   London   \n",
       "\n",
       "                     Company  Salary  \\\n",
       "0                       OSTC     NaN   \n",
       "1             Warman O'Brien     NaN   \n",
       "2                 ctrlio Ltd     NaN   \n",
       "3                  Novafutur     NaN   \n",
       "4  JPMorgan Chase Bank, N.A.     NaN   \n",
       "\n",
       "                                         Description  \n",
       "0  Company Description\\r\\nIn just over 15 years, ...  \n",
       "1  Biostatistician / Data Scientist - London\\r\\nI...  \n",
       "2  ctrlio helps motor insurers win customers more...  \n",
       "3  This is an opportunity to become a Data Scient...  \n",
       "4  Position Overview & Responsibilities:\\r\\nThis ...  "
      ]
     },
     "execution_count": 310,
     "metadata": {},
     "output_type": "execute_result"
    }
   ],
   "source": [
    "df=pd.read_csv('C:/Users/Anas/Desktop/DataScentist/Projects/Project3/Dataset/indeed-uk.csv')\n",
    "df.head()"
   ]
  },
  {
   "cell_type": "code",
   "execution_count": 311,
   "metadata": {},
   "outputs": [
    {
     "data": {
      "text/html": [
       "<div>\n",
       "<style scoped>\n",
       "    .dataframe tbody tr th:only-of-type {\n",
       "        vertical-align: middle;\n",
       "    }\n",
       "\n",
       "    .dataframe tbody tr th {\n",
       "        vertical-align: top;\n",
       "    }\n",
       "\n",
       "    .dataframe thead th {\n",
       "        text-align: right;\n",
       "    }\n",
       "</style>\n",
       "<table border=\"1\" class=\"dataframe\">\n",
       "  <thead>\n",
       "    <tr style=\"text-align: right;\">\n",
       "      <th></th>\n",
       "      <th>Title</th>\n",
       "      <th>Location</th>\n",
       "      <th>Company</th>\n",
       "      <th>Description</th>\n",
       "    </tr>\n",
       "  </thead>\n",
       "  <tbody>\n",
       "    <tr>\n",
       "      <th>0</th>\n",
       "      <td>Data Scientist</td>\n",
       "      <td>Bromley</td>\n",
       "      <td>OSTC</td>\n",
       "      <td>Company Description\\r\\nIn just over 15 years, ...</td>\n",
       "    </tr>\n",
       "    <tr>\n",
       "      <th>1</th>\n",
       "      <td>Biostatistician / Data Scientist - Innovative ...</td>\n",
       "      <td>London</td>\n",
       "      <td>Warman O'Brien</td>\n",
       "      <td>Biostatistician / Data Scientist - London\\r\\nI...</td>\n",
       "    </tr>\n",
       "    <tr>\n",
       "      <th>2</th>\n",
       "      <td>Data Scientist</td>\n",
       "      <td>London</td>\n",
       "      <td>ctrlio Ltd</td>\n",
       "      <td>ctrlio helps motor insurers win customers more...</td>\n",
       "    </tr>\n",
       "    <tr>\n",
       "      <th>3</th>\n",
       "      <td>Junior Data Scientist</td>\n",
       "      <td>London</td>\n",
       "      <td>Novafutur</td>\n",
       "      <td>This is an opportunity to become a Data Scient...</td>\n",
       "    </tr>\n",
       "    <tr>\n",
       "      <th>4</th>\n",
       "      <td>Data Scientist Lead</td>\n",
       "      <td>London</td>\n",
       "      <td>JPMorgan Chase Bank, N.A.</td>\n",
       "      <td>Position Overview &amp; Responsibilities:\\r\\nThis ...</td>\n",
       "    </tr>\n",
       "  </tbody>\n",
       "</table>\n",
       "</div>"
      ],
      "text/plain": [
       "                                               Title Location  \\\n",
       "0                                     Data Scientist  Bromley   \n",
       "1  Biostatistician / Data Scientist - Innovative ...   London   \n",
       "2                                     Data Scientist   London   \n",
       "3                              Junior Data Scientist   London   \n",
       "4                                Data Scientist Lead   London   \n",
       "\n",
       "                     Company  \\\n",
       "0                       OSTC   \n",
       "1             Warman O'Brien   \n",
       "2                 ctrlio Ltd   \n",
       "3                  Novafutur   \n",
       "4  JPMorgan Chase Bank, N.A.   \n",
       "\n",
       "                                         Description  \n",
       "0  Company Description\\r\\nIn just over 15 years, ...  \n",
       "1  Biostatistician / Data Scientist - London\\r\\nI...  \n",
       "2  ctrlio helps motor insurers win customers more...  \n",
       "3  This is an opportunity to become a Data Scient...  \n",
       "4  Position Overview & Responsibilities:\\r\\nThis ...  "
      ]
     },
     "execution_count": 311,
     "metadata": {},
     "output_type": "execute_result"
    }
   ],
   "source": [
    "\n",
    "df=df.drop('Salary',1)\n",
    "df.head()"
   ]
  },
  {
   "cell_type": "code",
   "execution_count": 312,
   "metadata": {},
   "outputs": [],
   "source": [
    "df['Title']= df['Title'].apply(lambda x: x.split('-')[0])\n"
   ]
  },
  {
   "cell_type": "code",
   "execution_count": 313,
   "metadata": {},
   "outputs": [
    {
     "data": {
      "text/plain": [
       "0                       Data Scientist\n",
       "1    Biostatistician / Data Scientist \n",
       "2                       Data Scientist\n",
       "3                Junior Data Scientist\n",
       "4                  Data Scientist Lead\n",
       "Name: Title, dtype: object"
      ]
     },
     "execution_count": 313,
     "metadata": {},
     "output_type": "execute_result"
    }
   ],
   "source": [
    "Title.head()"
   ]
  },
  {
   "cell_type": "code",
   "execution_count": 314,
   "metadata": {},
   "outputs": [
    {
     "data": {
      "text/plain": [
       "(7843, 4)"
      ]
     },
     "execution_count": 314,
     "metadata": {},
     "output_type": "execute_result"
    }
   ],
   "source": [
    "df.shape"
   ]
  },
  {
   "cell_type": "code",
   "execution_count": 315,
   "metadata": {},
   "outputs": [
    {
     "data": {
      "text/html": [
       "<div>\n",
       "<style scoped>\n",
       "    .dataframe tbody tr th:only-of-type {\n",
       "        vertical-align: middle;\n",
       "    }\n",
       "\n",
       "    .dataframe tbody tr th {\n",
       "        vertical-align: top;\n",
       "    }\n",
       "\n",
       "    .dataframe thead th {\n",
       "        text-align: right;\n",
       "    }\n",
       "</style>\n",
       "<table border=\"1\" class=\"dataframe\">\n",
       "  <thead>\n",
       "    <tr style=\"text-align: right;\">\n",
       "      <th></th>\n",
       "      <th>Title</th>\n",
       "      <th>Location</th>\n",
       "      <th>Company</th>\n",
       "      <th>Description</th>\n",
       "    </tr>\n",
       "  </thead>\n",
       "  <tbody>\n",
       "    <tr>\n",
       "      <th>0</th>\n",
       "      <td>Data Scientist</td>\n",
       "      <td>Bromley</td>\n",
       "      <td>OSTC</td>\n",
       "      <td>Company Description\\r\\nIn just over 15 years, ...</td>\n",
       "    </tr>\n",
       "    <tr>\n",
       "      <th>1</th>\n",
       "      <td>Biostatistician / Data Scientist</td>\n",
       "      <td>London</td>\n",
       "      <td>Warman O'Brien</td>\n",
       "      <td>Biostatistician / Data Scientist - London\\r\\nI...</td>\n",
       "    </tr>\n",
       "    <tr>\n",
       "      <th>2</th>\n",
       "      <td>Data Scientist</td>\n",
       "      <td>London</td>\n",
       "      <td>ctrlio Ltd</td>\n",
       "      <td>ctrlio helps motor insurers win customers more...</td>\n",
       "    </tr>\n",
       "    <tr>\n",
       "      <th>3</th>\n",
       "      <td>Junior Data Scientist</td>\n",
       "      <td>London</td>\n",
       "      <td>Novafutur</td>\n",
       "      <td>This is an opportunity to become a Data Scient...</td>\n",
       "    </tr>\n",
       "    <tr>\n",
       "      <th>4</th>\n",
       "      <td>Data Scientist Lead</td>\n",
       "      <td>London</td>\n",
       "      <td>JPMorgan Chase Bank, N.A.</td>\n",
       "      <td>Position Overview &amp; Responsibilities:\\r\\nThis ...</td>\n",
       "    </tr>\n",
       "    <tr>\n",
       "      <th>...</th>\n",
       "      <td>...</td>\n",
       "      <td>...</td>\n",
       "      <td>...</td>\n",
       "      <td>...</td>\n",
       "    </tr>\n",
       "    <tr>\n",
       "      <th>7838</th>\n",
       "      <td>Senior Clinical Operations Manager</td>\n",
       "      <td>London</td>\n",
       "      <td>CK Group</td>\n",
       "      <td>Sam Whyley-Smith at CK Clinical is recruiting ...</td>\n",
       "    </tr>\n",
       "    <tr>\n",
       "      <th>7839</th>\n",
       "      <td>Global Clinical Operations Leader (Senior Mana...</td>\n",
       "      <td>London</td>\n",
       "      <td>CK Group</td>\n",
       "      <td>CK Clinical are recruiting for a Global Clinic...</td>\n",
       "    </tr>\n",
       "    <tr>\n",
       "      <th>7840</th>\n",
       "      <td>Actuarial Analyst</td>\n",
       "      <td>London SW1A 2AH</td>\n",
       "      <td>Ageas Insurance Limited</td>\n",
       "      <td>Job Title: Actuarial Analyst\\r\\nSalary: up to ...</td>\n",
       "    </tr>\n",
       "    <tr>\n",
       "      <th>7841</th>\n",
       "      <td>Pricing Analyst</td>\n",
       "      <td>Reigate RH2 9AQ</td>\n",
       "      <td>Ageas Insurance Limited</td>\n",
       "      <td>Actuarial Pricing Analyst:\\r\\nTesco Underwriti...</td>\n",
       "    </tr>\n",
       "    <tr>\n",
       "      <th>7842</th>\n",
       "      <td>Management Accountant</td>\n",
       "      <td>London TW8 9ES</td>\n",
       "      <td>Safetykleen</td>\n",
       "      <td>Who are Safetykleen?\\r\\nWe are the leading pro...</td>\n",
       "    </tr>\n",
       "  </tbody>\n",
       "</table>\n",
       "<p>7843 rows × 4 columns</p>\n",
       "</div>"
      ],
      "text/plain": [
       "                                                  Title         Location  \\\n",
       "0                                        Data Scientist          Bromley   \n",
       "1                     Biostatistician / Data Scientist            London   \n",
       "2                                        Data Scientist           London   \n",
       "3                                 Junior Data Scientist           London   \n",
       "4                                   Data Scientist Lead           London   \n",
       "...                                                 ...              ...   \n",
       "7838                 Senior Clinical Operations Manager           London   \n",
       "7839  Global Clinical Operations Leader (Senior Mana...           London   \n",
       "7840                                  Actuarial Analyst  London SW1A 2AH   \n",
       "7841                                    Pricing Analyst  Reigate RH2 9AQ   \n",
       "7842                              Management Accountant   London TW8 9ES   \n",
       "\n",
       "                        Company  \\\n",
       "0                          OSTC   \n",
       "1                Warman O'Brien   \n",
       "2                    ctrlio Ltd   \n",
       "3                     Novafutur   \n",
       "4     JPMorgan Chase Bank, N.A.   \n",
       "...                         ...   \n",
       "7838                   CK Group   \n",
       "7839                   CK Group   \n",
       "7840    Ageas Insurance Limited   \n",
       "7841    Ageas Insurance Limited   \n",
       "7842                Safetykleen   \n",
       "\n",
       "                                            Description  \n",
       "0     Company Description\\r\\nIn just over 15 years, ...  \n",
       "1     Biostatistician / Data Scientist - London\\r\\nI...  \n",
       "2     ctrlio helps motor insurers win customers more...  \n",
       "3     This is an opportunity to become a Data Scient...  \n",
       "4     Position Overview & Responsibilities:\\r\\nThis ...  \n",
       "...                                                 ...  \n",
       "7838  Sam Whyley-Smith at CK Clinical is recruiting ...  \n",
       "7839  CK Clinical are recruiting for a Global Clinic...  \n",
       "7840  Job Title: Actuarial Analyst\\r\\nSalary: up to ...  \n",
       "7841  Actuarial Pricing Analyst:\\r\\nTesco Underwriti...  \n",
       "7842  Who are Safetykleen?\\r\\nWe are the leading pro...  \n",
       "\n",
       "[7843 rows x 4 columns]"
      ]
     },
     "execution_count": 315,
     "metadata": {},
     "output_type": "execute_result"
    }
   ],
   "source": [
    "pd.set_option('display.max_rows', 500)\n",
    "df"
   ]
  },
  {
   "cell_type": "code",
   "execution_count": 316,
   "metadata": {},
   "outputs": [
    {
     "data": {
      "text/plain": [
       "1    3975\n",
       "0    3868\n",
       "Name: python, dtype: int64"
      ]
     },
     "execution_count": 316,
     "metadata": {},
     "output_type": "execute_result"
    }
   ],
   "source": [
    "df['python']= df['Description'].apply(lambda x: 1 if'python' in x.lower() else 0)\n",
    "df.python.value_counts()"
   ]
  },
  {
   "cell_type": "code",
   "execution_count": 317,
   "metadata": {},
   "outputs": [
    {
     "data": {
      "text/plain": [
       "0    7838\n",
       "1       5\n",
       "Name: R_yn, dtype: int64"
      ]
     },
     "execution_count": 317,
     "metadata": {},
     "output_type": "execute_result"
    }
   ],
   "source": [
    "df['R_yn'] = df['Description'].apply(lambda x: 1 if 'r studio' in x.lower() or 'r-studio' in x.lower() else 0)\n",
    "df.R_yn.value_counts()"
   ]
  },
  {
   "cell_type": "code",
   "execution_count": 318,
   "metadata": {},
   "outputs": [
    {
     "data": {
      "text/plain": [
       "0    6566\n",
       "1    1277\n",
       "Name: spark, dtype: int64"
      ]
     },
     "execution_count": 318,
     "metadata": {},
     "output_type": "execute_result"
    }
   ],
   "source": [
    "df['spark'] = df['Description'].apply(lambda x: 1 if 'spark' in x.lower() else 0)\n",
    "df.spark.value_counts()"
   ]
  },
  {
   "cell_type": "code",
   "execution_count": 319,
   "metadata": {},
   "outputs": [
    {
     "data": {
      "text/plain": [
       "0    6121\n",
       "1    1722\n",
       "Name: aws, dtype: int64"
      ]
     },
     "execution_count": 319,
     "metadata": {},
     "output_type": "execute_result"
    }
   ],
   "source": [
    "df['aws'] = df['Description'].apply(lambda x: 1 if 'aws' in x.lower() else 0)\n",
    "df.aws.value_counts()"
   ]
  },
  {
   "cell_type": "code",
   "execution_count": 320,
   "metadata": {},
   "outputs": [
    {
     "data": {
      "text/plain": [
       "0    3945\n",
       "1    3898\n",
       "Name: excel, dtype: int64"
      ]
     },
     "execution_count": 320,
     "metadata": {},
     "output_type": "execute_result"
    }
   ],
   "source": [
    "df['excel'] = df['Description'].apply(lambda x: 1 if 'excel' in x.lower() else 0)\n",
    "df.excel.value_counts()"
   ]
  },
  {
   "cell_type": "code",
   "execution_count": 321,
   "metadata": {},
   "outputs": [
    {
     "data": {
      "text/plain": [
       "0    7843\n",
       "Name: MachineLearning, dtype: int64"
      ]
     },
     "execution_count": 321,
     "metadata": {},
     "output_type": "execute_result"
    }
   ],
   "source": [
    "df['MachineLearning'] = df['Description'].apply(lambda x: 1 if 'MachineLearning' in x.lower() else 0)\n",
    "df.MachineLearning.value_counts()"
   ]
  },
  {
   "cell_type": "code",
   "execution_count": 322,
   "metadata": {},
   "outputs": [
    {
     "data": {
      "text/plain": [
       "Index(['Title', 'Location', 'Company', 'Description', 'python', 'R_yn',\n",
       "       'spark', 'aws', 'excel', 'MachineLearning'],\n",
       "      dtype='object')"
      ]
     },
     "execution_count": 322,
     "metadata": {},
     "output_type": "execute_result"
    }
   ],
   "source": [
    "df.columns"
   ]
  },
  {
   "cell_type": "code",
   "execution_count": 323,
   "metadata": {},
   "outputs": [],
   "source": [
    "df['Company']= df['Company'].apply(lambda x: x.split('â€™s')[0])\n"
   ]
  },
  {
   "cell_type": "code",
   "execution_count": 324,
   "metadata": {},
   "outputs": [
    {
     "data": {
      "text/plain": [
       "0                         OSTC\n",
       "1               Warman O'Brien\n",
       "2                   ctrlio Ltd\n",
       "3                    Novafutur\n",
       "4    JPMorgan Chase Bank, N.A.\n",
       "Name: Company, dtype: object"
      ]
     },
     "execution_count": 324,
     "metadata": {},
     "output_type": "execute_result"
    }
   ],
   "source": [
    "Company.head()"
   ]
  },
  {
   "cell_type": "code",
   "execution_count": 325,
   "metadata": {},
   "outputs": [],
   "source": [
    "df['Company']= df['Company'].apply(lambda x: x.split(', N.A.')[0])"
   ]
  },
  {
   "cell_type": "code",
   "execution_count": 326,
   "metadata": {},
   "outputs": [
    {
     "data": {
      "text/plain": [
       "Index(['Title', 'Location', 'Company', 'Description', 'python', 'R_yn',\n",
       "       'spark', 'aws', 'excel', 'MachineLearning'],\n",
       "      dtype='object')"
      ]
     },
     "execution_count": 326,
     "metadata": {},
     "output_type": "execute_result"
    }
   ],
   "source": [
    "df.columns"
   ]
  },
  {
   "cell_type": "code",
   "execution_count": 327,
   "metadata": {},
   "outputs": [],
   "source": [
    "\n",
    "\n",
    "df['Location'] = df['Location'].str[:7]"
   ]
  },
  {
   "cell_type": "code",
   "execution_count": 328,
   "metadata": {},
   "outputs": [
    {
     "data": {
      "text/html": [
       "<div>\n",
       "<style scoped>\n",
       "    .dataframe tbody tr th:only-of-type {\n",
       "        vertical-align: middle;\n",
       "    }\n",
       "\n",
       "    .dataframe tbody tr th {\n",
       "        vertical-align: top;\n",
       "    }\n",
       "\n",
       "    .dataframe thead th {\n",
       "        text-align: right;\n",
       "    }\n",
       "</style>\n",
       "<table border=\"1\" class=\"dataframe\">\n",
       "  <thead>\n",
       "    <tr style=\"text-align: right;\">\n",
       "      <th></th>\n",
       "      <th>Title</th>\n",
       "      <th>Location</th>\n",
       "      <th>Company</th>\n",
       "      <th>Description</th>\n",
       "      <th>python</th>\n",
       "      <th>R_yn</th>\n",
       "      <th>spark</th>\n",
       "      <th>aws</th>\n",
       "      <th>excel</th>\n",
       "    </tr>\n",
       "  </thead>\n",
       "  <tbody>\n",
       "    <tr>\n",
       "      <th>0</th>\n",
       "      <td>Data Scientist</td>\n",
       "      <td>Bromley</td>\n",
       "      <td>OSTC</td>\n",
       "      <td>Company Description\\r\\nIn just over 15 years, ...</td>\n",
       "      <td>1</td>\n",
       "      <td>0</td>\n",
       "      <td>0</td>\n",
       "      <td>1</td>\n",
       "      <td>1</td>\n",
       "    </tr>\n",
       "    <tr>\n",
       "      <th>1</th>\n",
       "      <td>Biostatistician / Data Scientist</td>\n",
       "      <td>London</td>\n",
       "      <td>Warman O'Brien</td>\n",
       "      <td>Biostatistician / Data Scientist - London\\r\\nI...</td>\n",
       "      <td>1</td>\n",
       "      <td>0</td>\n",
       "      <td>0</td>\n",
       "      <td>0</td>\n",
       "      <td>0</td>\n",
       "    </tr>\n",
       "    <tr>\n",
       "      <th>2</th>\n",
       "      <td>Data Scientist</td>\n",
       "      <td>London</td>\n",
       "      <td>ctrlio Ltd</td>\n",
       "      <td>ctrlio helps motor insurers win customers more...</td>\n",
       "      <td>1</td>\n",
       "      <td>0</td>\n",
       "      <td>1</td>\n",
       "      <td>1</td>\n",
       "      <td>0</td>\n",
       "    </tr>\n",
       "    <tr>\n",
       "      <th>3</th>\n",
       "      <td>Junior Data Scientist</td>\n",
       "      <td>London</td>\n",
       "      <td>Novafutur</td>\n",
       "      <td>This is an opportunity to become a Data Scient...</td>\n",
       "      <td>1</td>\n",
       "      <td>0</td>\n",
       "      <td>0</td>\n",
       "      <td>0</td>\n",
       "      <td>1</td>\n",
       "    </tr>\n",
       "    <tr>\n",
       "      <th>4</th>\n",
       "      <td>Data Scientist Lead</td>\n",
       "      <td>London</td>\n",
       "      <td>JPMorgan Chase Bank</td>\n",
       "      <td>Position Overview &amp; Responsibilities:\\r\\nThis ...</td>\n",
       "      <td>1</td>\n",
       "      <td>0</td>\n",
       "      <td>0</td>\n",
       "      <td>0</td>\n",
       "      <td>0</td>\n",
       "    </tr>\n",
       "    <tr>\n",
       "      <th>...</th>\n",
       "      <td>...</td>\n",
       "      <td>...</td>\n",
       "      <td>...</td>\n",
       "      <td>...</td>\n",
       "      <td>...</td>\n",
       "      <td>...</td>\n",
       "      <td>...</td>\n",
       "      <td>...</td>\n",
       "      <td>...</td>\n",
       "    </tr>\n",
       "    <tr>\n",
       "      <th>7838</th>\n",
       "      <td>Senior Clinical Operations Manager</td>\n",
       "      <td>London</td>\n",
       "      <td>CK Group</td>\n",
       "      <td>Sam Whyley-Smith at CK Clinical is recruiting ...</td>\n",
       "      <td>0</td>\n",
       "      <td>0</td>\n",
       "      <td>0</td>\n",
       "      <td>0</td>\n",
       "      <td>0</td>\n",
       "    </tr>\n",
       "    <tr>\n",
       "      <th>7839</th>\n",
       "      <td>Global Clinical Operations Leader (Senior Mana...</td>\n",
       "      <td>London</td>\n",
       "      <td>CK Group</td>\n",
       "      <td>CK Clinical are recruiting for a Global Clinic...</td>\n",
       "      <td>0</td>\n",
       "      <td>0</td>\n",
       "      <td>0</td>\n",
       "      <td>0</td>\n",
       "      <td>0</td>\n",
       "    </tr>\n",
       "    <tr>\n",
       "      <th>7840</th>\n",
       "      <td>Actuarial Analyst</td>\n",
       "      <td>London</td>\n",
       "      <td>Ageas Insurance Limited</td>\n",
       "      <td>Job Title: Actuarial Analyst\\r\\nSalary: up to ...</td>\n",
       "      <td>1</td>\n",
       "      <td>0</td>\n",
       "      <td>0</td>\n",
       "      <td>0</td>\n",
       "      <td>1</td>\n",
       "    </tr>\n",
       "    <tr>\n",
       "      <th>7841</th>\n",
       "      <td>Pricing Analyst</td>\n",
       "      <td>Reigate</td>\n",
       "      <td>Ageas Insurance Limited</td>\n",
       "      <td>Actuarial Pricing Analyst:\\r\\nTesco Underwriti...</td>\n",
       "      <td>0</td>\n",
       "      <td>0</td>\n",
       "      <td>0</td>\n",
       "      <td>0</td>\n",
       "      <td>0</td>\n",
       "    </tr>\n",
       "    <tr>\n",
       "      <th>7842</th>\n",
       "      <td>Management Accountant</td>\n",
       "      <td>London</td>\n",
       "      <td>Safetykleen</td>\n",
       "      <td>Who are Safetykleen?\\r\\nWe are the leading pro...</td>\n",
       "      <td>0</td>\n",
       "      <td>0</td>\n",
       "      <td>0</td>\n",
       "      <td>0</td>\n",
       "      <td>1</td>\n",
       "    </tr>\n",
       "  </tbody>\n",
       "</table>\n",
       "<p>7843 rows × 9 columns</p>\n",
       "</div>"
      ],
      "text/plain": [
       "                                                  Title Location  \\\n",
       "0                                        Data Scientist  Bromley   \n",
       "1                     Biostatistician / Data Scientist    London   \n",
       "2                                        Data Scientist   London   \n",
       "3                                 Junior Data Scientist   London   \n",
       "4                                   Data Scientist Lead   London   \n",
       "...                                                 ...      ...   \n",
       "7838                 Senior Clinical Operations Manager   London   \n",
       "7839  Global Clinical Operations Leader (Senior Mana...   London   \n",
       "7840                                  Actuarial Analyst  London    \n",
       "7841                                    Pricing Analyst  Reigate   \n",
       "7842                              Management Accountant  London    \n",
       "\n",
       "                      Company  \\\n",
       "0                        OSTC   \n",
       "1              Warman O'Brien   \n",
       "2                  ctrlio Ltd   \n",
       "3                   Novafutur   \n",
       "4         JPMorgan Chase Bank   \n",
       "...                       ...   \n",
       "7838                 CK Group   \n",
       "7839                 CK Group   \n",
       "7840  Ageas Insurance Limited   \n",
       "7841  Ageas Insurance Limited   \n",
       "7842              Safetykleen   \n",
       "\n",
       "                                            Description  python  R_yn  spark  \\\n",
       "0     Company Description\\r\\nIn just over 15 years, ...       1     0      0   \n",
       "1     Biostatistician / Data Scientist - London\\r\\nI...       1     0      0   \n",
       "2     ctrlio helps motor insurers win customers more...       1     0      1   \n",
       "3     This is an opportunity to become a Data Scient...       1     0      0   \n",
       "4     Position Overview & Responsibilities:\\r\\nThis ...       1     0      0   \n",
       "...                                                 ...     ...   ...    ...   \n",
       "7838  Sam Whyley-Smith at CK Clinical is recruiting ...       0     0      0   \n",
       "7839  CK Clinical are recruiting for a Global Clinic...       0     0      0   \n",
       "7840  Job Title: Actuarial Analyst\\r\\nSalary: up to ...       1     0      0   \n",
       "7841  Actuarial Pricing Analyst:\\r\\nTesco Underwriti...       0     0      0   \n",
       "7842  Who are Safetykleen?\\r\\nWe are the leading pro...       0     0      0   \n",
       "\n",
       "      aws  excel  \n",
       "0       1      1  \n",
       "1       0      0  \n",
       "2       1      0  \n",
       "3       0      1  \n",
       "4       0      0  \n",
       "...   ...    ...  \n",
       "7838    0      0  \n",
       "7839    0      0  \n",
       "7840    0      1  \n",
       "7841    0      0  \n",
       "7842    0      1  \n",
       "\n",
       "[7843 rows x 9 columns]"
      ]
     },
     "execution_count": 328,
     "metadata": {},
     "output_type": "execute_result"
    }
   ],
   "source": [
    "\n",
    "df=df.drop('MachineLearning',1)\n",
    "df"
   ]
  },
  {
   "cell_type": "code",
   "execution_count": 329,
   "metadata": {},
   "outputs": [
    {
     "data": {
      "text/plain": [
       "Index(['Title', 'Location', 'Company', 'Description', 'python', 'R_yn',\n",
       "       'spark', 'aws', 'excel'],\n",
       "      dtype='object')"
      ]
     },
     "execution_count": 329,
     "metadata": {},
     "output_type": "execute_result"
    }
   ],
   "source": [
    "\n",
    "df.columns"
   ]
  },
  {
   "cell_type": "code",
   "execution_count": null,
   "metadata": {},
   "outputs": [],
   "source": []
  },
  {
   "cell_type": "code",
   "execution_count": 330,
   "metadata": {},
   "outputs": [],
   "source": [
    "df_out=df\n",
    "df_out.to_csv('cleaned_DS_UK.csv', index=False)"
   ]
  },
  {
   "cell_type": "code",
   "execution_count": 359,
   "metadata": {},
   "outputs": [],
   "source": [
    "import matplotlib.pyplot  as plt\n",
    "import seaborn as sns\n",
    "\n",
    "import plotly.express as px\n",
    "import plotly"
   ]
  },
  {
   "cell_type": "code",
   "execution_count": 332,
   "metadata": {},
   "outputs": [
    {
     "data": {
      "text/html": [
       "<div>\n",
       "<style scoped>\n",
       "    .dataframe tbody tr th:only-of-type {\n",
       "        vertical-align: middle;\n",
       "    }\n",
       "\n",
       "    .dataframe tbody tr th {\n",
       "        vertical-align: top;\n",
       "    }\n",
       "\n",
       "    .dataframe thead th {\n",
       "        text-align: right;\n",
       "    }\n",
       "</style>\n",
       "<table border=\"1\" class=\"dataframe\">\n",
       "  <thead>\n",
       "    <tr style=\"text-align: right;\">\n",
       "      <th></th>\n",
       "      <th>Title</th>\n",
       "      <th>Location</th>\n",
       "      <th>Company</th>\n",
       "      <th>Description</th>\n",
       "      <th>python</th>\n",
       "      <th>R_yn</th>\n",
       "      <th>spark</th>\n",
       "      <th>aws</th>\n",
       "      <th>excel</th>\n",
       "    </tr>\n",
       "  </thead>\n",
       "  <tbody>\n",
       "    <tr>\n",
       "      <th>0</th>\n",
       "      <td>Data Scientist</td>\n",
       "      <td>Bromley</td>\n",
       "      <td>OSTC</td>\n",
       "      <td>Company Description\\r\\nIn just over 15 years, ...</td>\n",
       "      <td>1</td>\n",
       "      <td>0</td>\n",
       "      <td>0</td>\n",
       "      <td>1</td>\n",
       "      <td>1</td>\n",
       "    </tr>\n",
       "    <tr>\n",
       "      <th>1</th>\n",
       "      <td>Biostatistician / Data Scientist</td>\n",
       "      <td>London</td>\n",
       "      <td>Warman O'Brien</td>\n",
       "      <td>Biostatistician / Data Scientist - London\\r\\nI...</td>\n",
       "      <td>1</td>\n",
       "      <td>0</td>\n",
       "      <td>0</td>\n",
       "      <td>0</td>\n",
       "      <td>0</td>\n",
       "    </tr>\n",
       "    <tr>\n",
       "      <th>2</th>\n",
       "      <td>Data Scientist</td>\n",
       "      <td>London</td>\n",
       "      <td>ctrlio Ltd</td>\n",
       "      <td>ctrlio helps motor insurers win customers more...</td>\n",
       "      <td>1</td>\n",
       "      <td>0</td>\n",
       "      <td>1</td>\n",
       "      <td>1</td>\n",
       "      <td>0</td>\n",
       "    </tr>\n",
       "    <tr>\n",
       "      <th>3</th>\n",
       "      <td>Junior Data Scientist</td>\n",
       "      <td>London</td>\n",
       "      <td>Novafutur</td>\n",
       "      <td>This is an opportunity to become a Data Scient...</td>\n",
       "      <td>1</td>\n",
       "      <td>0</td>\n",
       "      <td>0</td>\n",
       "      <td>0</td>\n",
       "      <td>1</td>\n",
       "    </tr>\n",
       "    <tr>\n",
       "      <th>4</th>\n",
       "      <td>Data Scientist Lead</td>\n",
       "      <td>London</td>\n",
       "      <td>JPMorgan Chase Bank</td>\n",
       "      <td>Position Overview &amp; Responsibilities:\\r\\nThis ...</td>\n",
       "      <td>1</td>\n",
       "      <td>0</td>\n",
       "      <td>0</td>\n",
       "      <td>0</td>\n",
       "      <td>0</td>\n",
       "    </tr>\n",
       "  </tbody>\n",
       "</table>\n",
       "</div>"
      ],
      "text/plain": [
       "                               Title Location              Company  \\\n",
       "0                     Data Scientist  Bromley                 OSTC   \n",
       "1  Biostatistician / Data Scientist    London       Warman O'Brien   \n",
       "2                     Data Scientist   London           ctrlio Ltd   \n",
       "3              Junior Data Scientist   London            Novafutur   \n",
       "4                Data Scientist Lead   London  JPMorgan Chase Bank   \n",
       "\n",
       "                                         Description  python  R_yn  spark  \\\n",
       "0  Company Description\\r\\nIn just over 15 years, ...       1     0      0   \n",
       "1  Biostatistician / Data Scientist - London\\r\\nI...       1     0      0   \n",
       "2  ctrlio helps motor insurers win customers more...       1     0      1   \n",
       "3  This is an opportunity to become a Data Scient...       1     0      0   \n",
       "4  Position Overview & Responsibilities:\\r\\nThis ...       1     0      0   \n",
       "\n",
       "   aws  excel  \n",
       "0    1      1  \n",
       "1    0      0  \n",
       "2    1      0  \n",
       "3    0      1  \n",
       "4    0      0  "
      ]
     },
     "execution_count": 332,
     "metadata": {},
     "output_type": "execute_result"
    }
   ],
   "source": [
    "df=pd.read_csv('C:/Users/Anas/Desktop/DataScentist/Projects/Project3/Dataset/cleaned_DS_UK.csv')\n",
    "df.head()"
   ]
  },
  {
   "cell_type": "code",
   "execution_count": null,
   "metadata": {},
   "outputs": [],
   "source": []
  },
  {
   "cell_type": "code",
   "execution_count": null,
   "metadata": {},
   "outputs": [],
   "source": []
  },
  {
   "cell_type": "code",
   "execution_count": 335,
   "metadata": {},
   "outputs": [
    {
     "data": {
      "text/html": [
       "<div>\n",
       "<style scoped>\n",
       "    .dataframe tbody tr th:only-of-type {\n",
       "        vertical-align: middle;\n",
       "    }\n",
       "\n",
       "    .dataframe tbody tr th {\n",
       "        vertical-align: top;\n",
       "    }\n",
       "\n",
       "    .dataframe thead th {\n",
       "        text-align: right;\n",
       "    }\n",
       "</style>\n",
       "<table border=\"1\" class=\"dataframe\">\n",
       "  <thead>\n",
       "    <tr style=\"text-align: right;\">\n",
       "      <th></th>\n",
       "      <th>Title</th>\n",
       "      <th>Location</th>\n",
       "      <th>Company</th>\n",
       "      <th>Description</th>\n",
       "      <th>python</th>\n",
       "      <th>R_yn</th>\n",
       "      <th>spark</th>\n",
       "      <th>aws</th>\n",
       "      <th>excel</th>\n",
       "    </tr>\n",
       "  </thead>\n",
       "  <tbody>\n",
       "    <tr>\n",
       "      <th>0</th>\n",
       "      <td>Data Scientist</td>\n",
       "      <td>Bromley</td>\n",
       "      <td>OSTC</td>\n",
       "      <td>Company Description\\r\\nIn just over 15 years, ...</td>\n",
       "      <td>1</td>\n",
       "      <td>0</td>\n",
       "      <td>0</td>\n",
       "      <td>1</td>\n",
       "      <td>1</td>\n",
       "    </tr>\n",
       "    <tr>\n",
       "      <th>1</th>\n",
       "      <td>Biostatistician / Data Scientist</td>\n",
       "      <td>London</td>\n",
       "      <td>Warman O'Brien</td>\n",
       "      <td>Biostatistician / Data Scientist - London\\r\\nI...</td>\n",
       "      <td>1</td>\n",
       "      <td>0</td>\n",
       "      <td>0</td>\n",
       "      <td>0</td>\n",
       "      <td>0</td>\n",
       "    </tr>\n",
       "    <tr>\n",
       "      <th>2</th>\n",
       "      <td>Data Scientist</td>\n",
       "      <td>London</td>\n",
       "      <td>ctrlio Ltd</td>\n",
       "      <td>ctrlio helps motor insurers win customers more...</td>\n",
       "      <td>1</td>\n",
       "      <td>0</td>\n",
       "      <td>1</td>\n",
       "      <td>1</td>\n",
       "      <td>0</td>\n",
       "    </tr>\n",
       "    <tr>\n",
       "      <th>3</th>\n",
       "      <td>Junior Data Scientist</td>\n",
       "      <td>London</td>\n",
       "      <td>Novafutur</td>\n",
       "      <td>This is an opportunity to become a Data Scient...</td>\n",
       "      <td>1</td>\n",
       "      <td>0</td>\n",
       "      <td>0</td>\n",
       "      <td>0</td>\n",
       "      <td>1</td>\n",
       "    </tr>\n",
       "    <tr>\n",
       "      <th>4</th>\n",
       "      <td>Data Scientist Lead</td>\n",
       "      <td>London</td>\n",
       "      <td>JPMorgan Chase Bank</td>\n",
       "      <td>Position Overview &amp; Responsibilities:\\r\\nThis ...</td>\n",
       "      <td>1</td>\n",
       "      <td>0</td>\n",
       "      <td>0</td>\n",
       "      <td>0</td>\n",
       "      <td>0</td>\n",
       "    </tr>\n",
       "    <tr>\n",
       "      <th>...</th>\n",
       "      <td>...</td>\n",
       "      <td>...</td>\n",
       "      <td>...</td>\n",
       "      <td>...</td>\n",
       "      <td>...</td>\n",
       "      <td>...</td>\n",
       "      <td>...</td>\n",
       "      <td>...</td>\n",
       "      <td>...</td>\n",
       "    </tr>\n",
       "    <tr>\n",
       "      <th>7838</th>\n",
       "      <td>Senior Clinical Operations Manager</td>\n",
       "      <td>London</td>\n",
       "      <td>CK Group</td>\n",
       "      <td>Sam Whyley-Smith at CK Clinical is recruiting ...</td>\n",
       "      <td>0</td>\n",
       "      <td>0</td>\n",
       "      <td>0</td>\n",
       "      <td>0</td>\n",
       "      <td>0</td>\n",
       "    </tr>\n",
       "    <tr>\n",
       "      <th>7839</th>\n",
       "      <td>Global Clinical Operations Leader (Senior Mana...</td>\n",
       "      <td>London</td>\n",
       "      <td>CK Group</td>\n",
       "      <td>CK Clinical are recruiting for a Global Clinic...</td>\n",
       "      <td>0</td>\n",
       "      <td>0</td>\n",
       "      <td>0</td>\n",
       "      <td>0</td>\n",
       "      <td>0</td>\n",
       "    </tr>\n",
       "    <tr>\n",
       "      <th>7840</th>\n",
       "      <td>Actuarial Analyst</td>\n",
       "      <td>London</td>\n",
       "      <td>Ageas Insurance Limited</td>\n",
       "      <td>Job Title: Actuarial Analyst\\r\\nSalary: up to ...</td>\n",
       "      <td>1</td>\n",
       "      <td>0</td>\n",
       "      <td>0</td>\n",
       "      <td>0</td>\n",
       "      <td>1</td>\n",
       "    </tr>\n",
       "    <tr>\n",
       "      <th>7841</th>\n",
       "      <td>Pricing Analyst</td>\n",
       "      <td>Reigate</td>\n",
       "      <td>Ageas Insurance Limited</td>\n",
       "      <td>Actuarial Pricing Analyst:\\r\\nTesco Underwriti...</td>\n",
       "      <td>0</td>\n",
       "      <td>0</td>\n",
       "      <td>0</td>\n",
       "      <td>0</td>\n",
       "      <td>0</td>\n",
       "    </tr>\n",
       "    <tr>\n",
       "      <th>7842</th>\n",
       "      <td>Management Accountant</td>\n",
       "      <td>London</td>\n",
       "      <td>Safetykleen</td>\n",
       "      <td>Who are Safetykleen?\\r\\nWe are the leading pro...</td>\n",
       "      <td>0</td>\n",
       "      <td>0</td>\n",
       "      <td>0</td>\n",
       "      <td>0</td>\n",
       "      <td>1</td>\n",
       "    </tr>\n",
       "  </tbody>\n",
       "</table>\n",
       "<p>7843 rows × 9 columns</p>\n",
       "</div>"
      ],
      "text/plain": [
       "                                                  Title Location  \\\n",
       "0                                        Data Scientist  Bromley   \n",
       "1                     Biostatistician / Data Scientist    London   \n",
       "2                                        Data Scientist   London   \n",
       "3                                 Junior Data Scientist   London   \n",
       "4                                   Data Scientist Lead   London   \n",
       "...                                                 ...      ...   \n",
       "7838                 Senior Clinical Operations Manager   London   \n",
       "7839  Global Clinical Operations Leader (Senior Mana...   London   \n",
       "7840                                  Actuarial Analyst  London    \n",
       "7841                                    Pricing Analyst  Reigate   \n",
       "7842                              Management Accountant  London    \n",
       "\n",
       "                      Company  \\\n",
       "0                        OSTC   \n",
       "1              Warman O'Brien   \n",
       "2                  ctrlio Ltd   \n",
       "3                   Novafutur   \n",
       "4         JPMorgan Chase Bank   \n",
       "...                       ...   \n",
       "7838                 CK Group   \n",
       "7839                 CK Group   \n",
       "7840  Ageas Insurance Limited   \n",
       "7841  Ageas Insurance Limited   \n",
       "7842              Safetykleen   \n",
       "\n",
       "                                            Description  python  R_yn  spark  \\\n",
       "0     Company Description\\r\\nIn just over 15 years, ...       1     0      0   \n",
       "1     Biostatistician / Data Scientist - London\\r\\nI...       1     0      0   \n",
       "2     ctrlio helps motor insurers win customers more...       1     0      1   \n",
       "3     This is an opportunity to become a Data Scient...       1     0      0   \n",
       "4     Position Overview & Responsibilities:\\r\\nThis ...       1     0      0   \n",
       "...                                                 ...     ...   ...    ...   \n",
       "7838  Sam Whyley-Smith at CK Clinical is recruiting ...       0     0      0   \n",
       "7839  CK Clinical are recruiting for a Global Clinic...       0     0      0   \n",
       "7840  Job Title: Actuarial Analyst\\r\\nSalary: up to ...       1     0      0   \n",
       "7841  Actuarial Pricing Analyst:\\r\\nTesco Underwriti...       0     0      0   \n",
       "7842  Who are Safetykleen?\\r\\nWe are the leading pro...       0     0      0   \n",
       "\n",
       "      aws  excel  \n",
       "0       1      1  \n",
       "1       0      0  \n",
       "2       1      0  \n",
       "3       0      1  \n",
       "4       0      0  \n",
       "...   ...    ...  \n",
       "7838    0      0  \n",
       "7839    0      0  \n",
       "7840    0      1  \n",
       "7841    0      0  \n",
       "7842    0      1  \n",
       "\n",
       "[7843 rows x 9 columns]"
      ]
     },
     "execution_count": 335,
     "metadata": {},
     "output_type": "execute_result"
    }
   ],
   "source": [
    "df"
   ]
  },
  {
   "cell_type": "code",
   "execution_count": 336,
   "metadata": {},
   "outputs": [],
   "source": [
    "\n",
    "                     \n",
    "df['Title'] = df[df['Title'].str.contains(\"Data Scientist\")]\n",
    "\n"
   ]
  },
  {
   "cell_type": "code",
   "execution_count": 337,
   "metadata": {},
   "outputs": [
    {
     "data": {
      "text/html": [
       "<div>\n",
       "<style scoped>\n",
       "    .dataframe tbody tr th:only-of-type {\n",
       "        vertical-align: middle;\n",
       "    }\n",
       "\n",
       "    .dataframe tbody tr th {\n",
       "        vertical-align: top;\n",
       "    }\n",
       "\n",
       "    .dataframe thead th {\n",
       "        text-align: right;\n",
       "    }\n",
       "</style>\n",
       "<table border=\"1\" class=\"dataframe\">\n",
       "  <thead>\n",
       "    <tr style=\"text-align: right;\">\n",
       "      <th></th>\n",
       "      <th>Title</th>\n",
       "      <th>Location</th>\n",
       "      <th>Company</th>\n",
       "      <th>Description</th>\n",
       "      <th>python</th>\n",
       "      <th>R_yn</th>\n",
       "      <th>spark</th>\n",
       "      <th>aws</th>\n",
       "      <th>excel</th>\n",
       "    </tr>\n",
       "  </thead>\n",
       "  <tbody>\n",
       "    <tr>\n",
       "      <th>0</th>\n",
       "      <td>Data Scientist</td>\n",
       "      <td>Bromley</td>\n",
       "      <td>OSTC</td>\n",
       "      <td>Company Description\\r\\nIn just over 15 years, ...</td>\n",
       "      <td>1</td>\n",
       "      <td>0</td>\n",
       "      <td>0</td>\n",
       "      <td>1</td>\n",
       "      <td>1</td>\n",
       "    </tr>\n",
       "    <tr>\n",
       "      <th>1</th>\n",
       "      <td>Biostatistician / Data Scientist</td>\n",
       "      <td>London</td>\n",
       "      <td>Warman O'Brien</td>\n",
       "      <td>Biostatistician / Data Scientist - London\\r\\nI...</td>\n",
       "      <td>1</td>\n",
       "      <td>0</td>\n",
       "      <td>0</td>\n",
       "      <td>0</td>\n",
       "      <td>0</td>\n",
       "    </tr>\n",
       "    <tr>\n",
       "      <th>2</th>\n",
       "      <td>Data Scientist</td>\n",
       "      <td>London</td>\n",
       "      <td>ctrlio Ltd</td>\n",
       "      <td>ctrlio helps motor insurers win customers more...</td>\n",
       "      <td>1</td>\n",
       "      <td>0</td>\n",
       "      <td>1</td>\n",
       "      <td>1</td>\n",
       "      <td>0</td>\n",
       "    </tr>\n",
       "    <tr>\n",
       "      <th>3</th>\n",
       "      <td>Junior Data Scientist</td>\n",
       "      <td>London</td>\n",
       "      <td>Novafutur</td>\n",
       "      <td>This is an opportunity to become a Data Scient...</td>\n",
       "      <td>1</td>\n",
       "      <td>0</td>\n",
       "      <td>0</td>\n",
       "      <td>0</td>\n",
       "      <td>1</td>\n",
       "    </tr>\n",
       "    <tr>\n",
       "      <th>4</th>\n",
       "      <td>Data Scientist Lead</td>\n",
       "      <td>London</td>\n",
       "      <td>JPMorgan Chase Bank</td>\n",
       "      <td>Position Overview &amp; Responsibilities:\\r\\nThis ...</td>\n",
       "      <td>1</td>\n",
       "      <td>0</td>\n",
       "      <td>0</td>\n",
       "      <td>0</td>\n",
       "      <td>0</td>\n",
       "    </tr>\n",
       "    <tr>\n",
       "      <th>...</th>\n",
       "      <td>...</td>\n",
       "      <td>...</td>\n",
       "      <td>...</td>\n",
       "      <td>...</td>\n",
       "      <td>...</td>\n",
       "      <td>...</td>\n",
       "      <td>...</td>\n",
       "      <td>...</td>\n",
       "      <td>...</td>\n",
       "    </tr>\n",
       "    <tr>\n",
       "      <th>7838</th>\n",
       "      <td>NaN</td>\n",
       "      <td>London</td>\n",
       "      <td>CK Group</td>\n",
       "      <td>Sam Whyley-Smith at CK Clinical is recruiting ...</td>\n",
       "      <td>0</td>\n",
       "      <td>0</td>\n",
       "      <td>0</td>\n",
       "      <td>0</td>\n",
       "      <td>0</td>\n",
       "    </tr>\n",
       "    <tr>\n",
       "      <th>7839</th>\n",
       "      <td>NaN</td>\n",
       "      <td>London</td>\n",
       "      <td>CK Group</td>\n",
       "      <td>CK Clinical are recruiting for a Global Clinic...</td>\n",
       "      <td>0</td>\n",
       "      <td>0</td>\n",
       "      <td>0</td>\n",
       "      <td>0</td>\n",
       "      <td>0</td>\n",
       "    </tr>\n",
       "    <tr>\n",
       "      <th>7840</th>\n",
       "      <td>NaN</td>\n",
       "      <td>London</td>\n",
       "      <td>Ageas Insurance Limited</td>\n",
       "      <td>Job Title: Actuarial Analyst\\r\\nSalary: up to ...</td>\n",
       "      <td>1</td>\n",
       "      <td>0</td>\n",
       "      <td>0</td>\n",
       "      <td>0</td>\n",
       "      <td>1</td>\n",
       "    </tr>\n",
       "    <tr>\n",
       "      <th>7841</th>\n",
       "      <td>NaN</td>\n",
       "      <td>Reigate</td>\n",
       "      <td>Ageas Insurance Limited</td>\n",
       "      <td>Actuarial Pricing Analyst:\\r\\nTesco Underwriti...</td>\n",
       "      <td>0</td>\n",
       "      <td>0</td>\n",
       "      <td>0</td>\n",
       "      <td>0</td>\n",
       "      <td>0</td>\n",
       "    </tr>\n",
       "    <tr>\n",
       "      <th>7842</th>\n",
       "      <td>NaN</td>\n",
       "      <td>London</td>\n",
       "      <td>Safetykleen</td>\n",
       "      <td>Who are Safetykleen?\\r\\nWe are the leading pro...</td>\n",
       "      <td>0</td>\n",
       "      <td>0</td>\n",
       "      <td>0</td>\n",
       "      <td>0</td>\n",
       "      <td>1</td>\n",
       "    </tr>\n",
       "  </tbody>\n",
       "</table>\n",
       "<p>7843 rows × 9 columns</p>\n",
       "</div>"
      ],
      "text/plain": [
       "                                  Title Location                  Company  \\\n",
       "0                        Data Scientist  Bromley                     OSTC   \n",
       "1     Biostatistician / Data Scientist    London           Warman O'Brien   \n",
       "2                        Data Scientist   London               ctrlio Ltd   \n",
       "3                 Junior Data Scientist   London                Novafutur   \n",
       "4                   Data Scientist Lead   London      JPMorgan Chase Bank   \n",
       "...                                 ...      ...                      ...   \n",
       "7838                                NaN   London                 CK Group   \n",
       "7839                                NaN   London                 CK Group   \n",
       "7840                                NaN  London   Ageas Insurance Limited   \n",
       "7841                                NaN  Reigate  Ageas Insurance Limited   \n",
       "7842                                NaN  London               Safetykleen   \n",
       "\n",
       "                                            Description  python  R_yn  spark  \\\n",
       "0     Company Description\\r\\nIn just over 15 years, ...       1     0      0   \n",
       "1     Biostatistician / Data Scientist - London\\r\\nI...       1     0      0   \n",
       "2     ctrlio helps motor insurers win customers more...       1     0      1   \n",
       "3     This is an opportunity to become a Data Scient...       1     0      0   \n",
       "4     Position Overview & Responsibilities:\\r\\nThis ...       1     0      0   \n",
       "...                                                 ...     ...   ...    ...   \n",
       "7838  Sam Whyley-Smith at CK Clinical is recruiting ...       0     0      0   \n",
       "7839  CK Clinical are recruiting for a Global Clinic...       0     0      0   \n",
       "7840  Job Title: Actuarial Analyst\\r\\nSalary: up to ...       1     0      0   \n",
       "7841  Actuarial Pricing Analyst:\\r\\nTesco Underwriti...       0     0      0   \n",
       "7842  Who are Safetykleen?\\r\\nWe are the leading pro...       0     0      0   \n",
       "\n",
       "      aws  excel  \n",
       "0       1      1  \n",
       "1       0      0  \n",
       "2       1      0  \n",
       "3       0      1  \n",
       "4       0      0  \n",
       "...   ...    ...  \n",
       "7838    0      0  \n",
       "7839    0      0  \n",
       "7840    0      1  \n",
       "7841    0      0  \n",
       "7842    0      1  \n",
       "\n",
       "[7843 rows x 9 columns]"
      ]
     },
     "execution_count": 337,
     "metadata": {},
     "output_type": "execute_result"
    }
   ],
   "source": [
    "df"
   ]
  },
  {
   "cell_type": "code",
   "execution_count": 338,
   "metadata": {},
   "outputs": [
    {
     "data": {
      "text/html": [
       "<div>\n",
       "<style scoped>\n",
       "    .dataframe tbody tr th:only-of-type {\n",
       "        vertical-align: middle;\n",
       "    }\n",
       "\n",
       "    .dataframe tbody tr th {\n",
       "        vertical-align: top;\n",
       "    }\n",
       "\n",
       "    .dataframe thead th {\n",
       "        text-align: right;\n",
       "    }\n",
       "</style>\n",
       "<table border=\"1\" class=\"dataframe\">\n",
       "  <thead>\n",
       "    <tr style=\"text-align: right;\">\n",
       "      <th></th>\n",
       "      <th>Title</th>\n",
       "      <th>Location</th>\n",
       "      <th>Company</th>\n",
       "      <th>Description</th>\n",
       "      <th>python</th>\n",
       "      <th>R_yn</th>\n",
       "      <th>spark</th>\n",
       "      <th>aws</th>\n",
       "      <th>excel</th>\n",
       "    </tr>\n",
       "  </thead>\n",
       "  <tbody>\n",
       "    <tr>\n",
       "      <th>0</th>\n",
       "      <td>Data Scientist</td>\n",
       "      <td>Bromley</td>\n",
       "      <td>OSTC</td>\n",
       "      <td>Company Description\\r\\nIn just over 15 years, ...</td>\n",
       "      <td>1</td>\n",
       "      <td>0</td>\n",
       "      <td>0</td>\n",
       "      <td>1</td>\n",
       "      <td>1</td>\n",
       "    </tr>\n",
       "    <tr>\n",
       "      <th>1</th>\n",
       "      <td>Biostatistician / Data Scientist</td>\n",
       "      <td>London</td>\n",
       "      <td>Warman O'Brien</td>\n",
       "      <td>Biostatistician / Data Scientist - London\\r\\nI...</td>\n",
       "      <td>1</td>\n",
       "      <td>0</td>\n",
       "      <td>0</td>\n",
       "      <td>0</td>\n",
       "      <td>0</td>\n",
       "    </tr>\n",
       "    <tr>\n",
       "      <th>2</th>\n",
       "      <td>Data Scientist</td>\n",
       "      <td>London</td>\n",
       "      <td>ctrlio Ltd</td>\n",
       "      <td>ctrlio helps motor insurers win customers more...</td>\n",
       "      <td>1</td>\n",
       "      <td>0</td>\n",
       "      <td>1</td>\n",
       "      <td>1</td>\n",
       "      <td>0</td>\n",
       "    </tr>\n",
       "    <tr>\n",
       "      <th>3</th>\n",
       "      <td>Junior Data Scientist</td>\n",
       "      <td>London</td>\n",
       "      <td>Novafutur</td>\n",
       "      <td>This is an opportunity to become a Data Scient...</td>\n",
       "      <td>1</td>\n",
       "      <td>0</td>\n",
       "      <td>0</td>\n",
       "      <td>0</td>\n",
       "      <td>1</td>\n",
       "    </tr>\n",
       "    <tr>\n",
       "      <th>4</th>\n",
       "      <td>Data Scientist Lead</td>\n",
       "      <td>London</td>\n",
       "      <td>JPMorgan Chase Bank</td>\n",
       "      <td>Position Overview &amp; Responsibilities:\\r\\nThis ...</td>\n",
       "      <td>1</td>\n",
       "      <td>0</td>\n",
       "      <td>0</td>\n",
       "      <td>0</td>\n",
       "      <td>0</td>\n",
       "    </tr>\n",
       "    <tr>\n",
       "      <th>...</th>\n",
       "      <td>...</td>\n",
       "      <td>...</td>\n",
       "      <td>...</td>\n",
       "      <td>...</td>\n",
       "      <td>...</td>\n",
       "      <td>...</td>\n",
       "      <td>...</td>\n",
       "      <td>...</td>\n",
       "      <td>...</td>\n",
       "    </tr>\n",
       "    <tr>\n",
       "      <th>7806</th>\n",
       "      <td>Data Scientist</td>\n",
       "      <td>Bromley</td>\n",
       "      <td>OSTC</td>\n",
       "      <td>Company Description\\r\\nIn just over 15 years, ...</td>\n",
       "      <td>1</td>\n",
       "      <td>0</td>\n",
       "      <td>0</td>\n",
       "      <td>1</td>\n",
       "      <td>1</td>\n",
       "    </tr>\n",
       "    <tr>\n",
       "      <th>7810</th>\n",
       "      <td>CPRD Data Scientist</td>\n",
       "      <td>London</td>\n",
       "      <td>Medicines and Healthcare products Regulatory A...</td>\n",
       "      <td>We would like to reassure all applicants that ...</td>\n",
       "      <td>1</td>\n",
       "      <td>0</td>\n",
       "      <td>0</td>\n",
       "      <td>0</td>\n",
       "      <td>0</td>\n",
       "    </tr>\n",
       "    <tr>\n",
       "      <th>7820</th>\n",
       "      <td>Data Scientist</td>\n",
       "      <td>Bromley</td>\n",
       "      <td>OSTC</td>\n",
       "      <td>Company Description\\r\\nIn just over 15 years, ...</td>\n",
       "      <td>1</td>\n",
       "      <td>0</td>\n",
       "      <td>0</td>\n",
       "      <td>1</td>\n",
       "      <td>1</td>\n",
       "    </tr>\n",
       "    <tr>\n",
       "      <th>7826</th>\n",
       "      <td>Data Scientist</td>\n",
       "      <td>Bromley</td>\n",
       "      <td>OSTC</td>\n",
       "      <td>Company Description\\r\\nIn just over 15 years, ...</td>\n",
       "      <td>1</td>\n",
       "      <td>0</td>\n",
       "      <td>0</td>\n",
       "      <td>1</td>\n",
       "      <td>1</td>\n",
       "    </tr>\n",
       "    <tr>\n",
       "      <th>7828</th>\n",
       "      <td>CPRD Data Scientist</td>\n",
       "      <td>London</td>\n",
       "      <td>Medicines and Healthcare products Regulatory A...</td>\n",
       "      <td>We would like to reassure all applicants that ...</td>\n",
       "      <td>1</td>\n",
       "      <td>0</td>\n",
       "      <td>0</td>\n",
       "      <td>0</td>\n",
       "      <td>0</td>\n",
       "    </tr>\n",
       "  </tbody>\n",
       "</table>\n",
       "<p>979 rows × 9 columns</p>\n",
       "</div>"
      ],
      "text/plain": [
       "                                  Title Location  \\\n",
       "0                        Data Scientist  Bromley   \n",
       "1     Biostatistician / Data Scientist    London   \n",
       "2                        Data Scientist   London   \n",
       "3                 Junior Data Scientist   London   \n",
       "4                   Data Scientist Lead   London   \n",
       "...                                 ...      ...   \n",
       "7806                     Data Scientist  Bromley   \n",
       "7810                CPRD Data Scientist   London   \n",
       "7820                     Data Scientist  Bromley   \n",
       "7826                     Data Scientist  Bromley   \n",
       "7828                CPRD Data Scientist   London   \n",
       "\n",
       "                                                Company  \\\n",
       "0                                                  OSTC   \n",
       "1                                        Warman O'Brien   \n",
       "2                                            ctrlio Ltd   \n",
       "3                                             Novafutur   \n",
       "4                                   JPMorgan Chase Bank   \n",
       "...                                                 ...   \n",
       "7806                                               OSTC   \n",
       "7810  Medicines and Healthcare products Regulatory A...   \n",
       "7820                                               OSTC   \n",
       "7826                                               OSTC   \n",
       "7828  Medicines and Healthcare products Regulatory A...   \n",
       "\n",
       "                                            Description  python  R_yn  spark  \\\n",
       "0     Company Description\\r\\nIn just over 15 years, ...       1     0      0   \n",
       "1     Biostatistician / Data Scientist - London\\r\\nI...       1     0      0   \n",
       "2     ctrlio helps motor insurers win customers more...       1     0      1   \n",
       "3     This is an opportunity to become a Data Scient...       1     0      0   \n",
       "4     Position Overview & Responsibilities:\\r\\nThis ...       1     0      0   \n",
       "...                                                 ...     ...   ...    ...   \n",
       "7806  Company Description\\r\\nIn just over 15 years, ...       1     0      0   \n",
       "7810  We would like to reassure all applicants that ...       1     0      0   \n",
       "7820  Company Description\\r\\nIn just over 15 years, ...       1     0      0   \n",
       "7826  Company Description\\r\\nIn just over 15 years, ...       1     0      0   \n",
       "7828  We would like to reassure all applicants that ...       1     0      0   \n",
       "\n",
       "      aws  excel  \n",
       "0       1      1  \n",
       "1       0      0  \n",
       "2       1      0  \n",
       "3       0      1  \n",
       "4       0      0  \n",
       "...   ...    ...  \n",
       "7806    1      1  \n",
       "7810    0      0  \n",
       "7820    1      1  \n",
       "7826    1      1  \n",
       "7828    0      0  \n",
       "\n",
       "[979 rows x 9 columns]"
      ]
     },
     "execution_count": 338,
     "metadata": {},
     "output_type": "execute_result"
    }
   ],
   "source": [
    "df.dropna()\n"
   ]
  },
  {
   "cell_type": "code",
   "execution_count": 339,
   "metadata": {},
   "outputs": [
    {
     "data": {
      "text/html": [
       "<div>\n",
       "<style scoped>\n",
       "    .dataframe tbody tr th:only-of-type {\n",
       "        vertical-align: middle;\n",
       "    }\n",
       "\n",
       "    .dataframe tbody tr th {\n",
       "        vertical-align: top;\n",
       "    }\n",
       "\n",
       "    .dataframe thead th {\n",
       "        text-align: right;\n",
       "    }\n",
       "</style>\n",
       "<table border=\"1\" class=\"dataframe\">\n",
       "  <thead>\n",
       "    <tr style=\"text-align: right;\">\n",
       "      <th></th>\n",
       "      <th>python</th>\n",
       "      <th>R_yn</th>\n",
       "      <th>spark</th>\n",
       "      <th>aws</th>\n",
       "      <th>excel</th>\n",
       "    </tr>\n",
       "  </thead>\n",
       "  <tbody>\n",
       "    <tr>\n",
       "      <th>count</th>\n",
       "      <td>7843.000000</td>\n",
       "      <td>7843.000000</td>\n",
       "      <td>7843.000000</td>\n",
       "      <td>7843.000000</td>\n",
       "      <td>7843.000000</td>\n",
       "    </tr>\n",
       "    <tr>\n",
       "      <th>mean</th>\n",
       "      <td>0.506821</td>\n",
       "      <td>0.000638</td>\n",
       "      <td>0.162820</td>\n",
       "      <td>0.219559</td>\n",
       "      <td>0.497004</td>\n",
       "    </tr>\n",
       "    <tr>\n",
       "      <th>std</th>\n",
       "      <td>0.499985</td>\n",
       "      <td>0.025243</td>\n",
       "      <td>0.369225</td>\n",
       "      <td>0.413974</td>\n",
       "      <td>0.500023</td>\n",
       "    </tr>\n",
       "    <tr>\n",
       "      <th>min</th>\n",
       "      <td>0.000000</td>\n",
       "      <td>0.000000</td>\n",
       "      <td>0.000000</td>\n",
       "      <td>0.000000</td>\n",
       "      <td>0.000000</td>\n",
       "    </tr>\n",
       "    <tr>\n",
       "      <th>25%</th>\n",
       "      <td>0.000000</td>\n",
       "      <td>0.000000</td>\n",
       "      <td>0.000000</td>\n",
       "      <td>0.000000</td>\n",
       "      <td>0.000000</td>\n",
       "    </tr>\n",
       "    <tr>\n",
       "      <th>50%</th>\n",
       "      <td>1.000000</td>\n",
       "      <td>0.000000</td>\n",
       "      <td>0.000000</td>\n",
       "      <td>0.000000</td>\n",
       "      <td>0.000000</td>\n",
       "    </tr>\n",
       "    <tr>\n",
       "      <th>75%</th>\n",
       "      <td>1.000000</td>\n",
       "      <td>0.000000</td>\n",
       "      <td>0.000000</td>\n",
       "      <td>0.000000</td>\n",
       "      <td>1.000000</td>\n",
       "    </tr>\n",
       "    <tr>\n",
       "      <th>max</th>\n",
       "      <td>1.000000</td>\n",
       "      <td>1.000000</td>\n",
       "      <td>1.000000</td>\n",
       "      <td>1.000000</td>\n",
       "      <td>1.000000</td>\n",
       "    </tr>\n",
       "  </tbody>\n",
       "</table>\n",
       "</div>"
      ],
      "text/plain": [
       "            python         R_yn        spark          aws        excel\n",
       "count  7843.000000  7843.000000  7843.000000  7843.000000  7843.000000\n",
       "mean      0.506821     0.000638     0.162820     0.219559     0.497004\n",
       "std       0.499985     0.025243     0.369225     0.413974     0.500023\n",
       "min       0.000000     0.000000     0.000000     0.000000     0.000000\n",
       "25%       0.000000     0.000000     0.000000     0.000000     0.000000\n",
       "50%       1.000000     0.000000     0.000000     0.000000     0.000000\n",
       "75%       1.000000     0.000000     0.000000     0.000000     1.000000\n",
       "max       1.000000     1.000000     1.000000     1.000000     1.000000"
      ]
     },
     "execution_count": 339,
     "metadata": {},
     "output_type": "execute_result"
    }
   ],
   "source": [
    "df.describe()"
   ]
  },
  {
   "cell_type": "code",
   "execution_count": null,
   "metadata": {},
   "outputs": [],
   "source": []
  },
  {
   "cell_type": "code",
   "execution_count": 302,
   "metadata": {},
   "outputs": [
    {
     "data": {
      "text/html": [
       "<div>\n",
       "<style scoped>\n",
       "    .dataframe tbody tr th:only-of-type {\n",
       "        vertical-align: middle;\n",
       "    }\n",
       "\n",
       "    .dataframe tbody tr th {\n",
       "        vertical-align: top;\n",
       "    }\n",
       "\n",
       "    .dataframe thead th {\n",
       "        text-align: right;\n",
       "    }\n",
       "</style>\n",
       "<table border=\"1\" class=\"dataframe\">\n",
       "  <thead>\n",
       "    <tr style=\"text-align: right;\">\n",
       "      <th></th>\n",
       "      <th>Title</th>\n",
       "      <th>Location</th>\n",
       "      <th>Company</th>\n",
       "      <th>Description</th>\n",
       "      <th>python</th>\n",
       "      <th>R_yn</th>\n",
       "      <th>spark</th>\n",
       "      <th>aws</th>\n",
       "      <th>excel</th>\n",
       "    </tr>\n",
       "  </thead>\n",
       "  <tbody>\n",
       "    <tr>\n",
       "      <th>0</th>\n",
       "      <td>Data Scientist</td>\n",
       "      <td>Bromley</td>\n",
       "      <td>OSTC</td>\n",
       "      <td>Company Description\\r\\nIn just over 15 years, ...</td>\n",
       "      <td>1</td>\n",
       "      <td>0</td>\n",
       "      <td>0</td>\n",
       "      <td>1</td>\n",
       "      <td>1</td>\n",
       "    </tr>\n",
       "    <tr>\n",
       "      <th>1</th>\n",
       "      <td>Biostatistician / Data Scientist</td>\n",
       "      <td>London</td>\n",
       "      <td>Warman O'Brien</td>\n",
       "      <td>Biostatistician / Data Scientist - London\\r\\nI...</td>\n",
       "      <td>1</td>\n",
       "      <td>0</td>\n",
       "      <td>0</td>\n",
       "      <td>0</td>\n",
       "      <td>0</td>\n",
       "    </tr>\n",
       "    <tr>\n",
       "      <th>2</th>\n",
       "      <td>Data Scientist</td>\n",
       "      <td>London</td>\n",
       "      <td>ctrlio Ltd</td>\n",
       "      <td>ctrlio helps motor insurers win customers more...</td>\n",
       "      <td>1</td>\n",
       "      <td>0</td>\n",
       "      <td>1</td>\n",
       "      <td>1</td>\n",
       "      <td>0</td>\n",
       "    </tr>\n",
       "    <tr>\n",
       "      <th>3</th>\n",
       "      <td>Junior Data Scientist</td>\n",
       "      <td>London</td>\n",
       "      <td>Novafutur</td>\n",
       "      <td>This is an opportunity to become a Data Scient...</td>\n",
       "      <td>1</td>\n",
       "      <td>0</td>\n",
       "      <td>0</td>\n",
       "      <td>0</td>\n",
       "      <td>1</td>\n",
       "    </tr>\n",
       "    <tr>\n",
       "      <th>4</th>\n",
       "      <td>Data Scientist Lead</td>\n",
       "      <td>London</td>\n",
       "      <td>JPMorgan Chase Bank</td>\n",
       "      <td>Position Overview &amp; Responsibilities:\\r\\nThis ...</td>\n",
       "      <td>1</td>\n",
       "      <td>0</td>\n",
       "      <td>0</td>\n",
       "      <td>0</td>\n",
       "      <td>0</td>\n",
       "    </tr>\n",
       "    <tr>\n",
       "      <th>...</th>\n",
       "      <td>...</td>\n",
       "      <td>...</td>\n",
       "      <td>...</td>\n",
       "      <td>...</td>\n",
       "      <td>...</td>\n",
       "      <td>...</td>\n",
       "      <td>...</td>\n",
       "      <td>...</td>\n",
       "      <td>...</td>\n",
       "    </tr>\n",
       "    <tr>\n",
       "      <th>7838</th>\n",
       "      <td>NaN</td>\n",
       "      <td>London</td>\n",
       "      <td>CK Group</td>\n",
       "      <td>Sam Whyley-Smith at CK Clinical is recruiting ...</td>\n",
       "      <td>0</td>\n",
       "      <td>0</td>\n",
       "      <td>0</td>\n",
       "      <td>0</td>\n",
       "      <td>0</td>\n",
       "    </tr>\n",
       "    <tr>\n",
       "      <th>7839</th>\n",
       "      <td>NaN</td>\n",
       "      <td>London</td>\n",
       "      <td>CK Group</td>\n",
       "      <td>CK Clinical are recruiting for a Global Clinic...</td>\n",
       "      <td>0</td>\n",
       "      <td>0</td>\n",
       "      <td>0</td>\n",
       "      <td>0</td>\n",
       "      <td>0</td>\n",
       "    </tr>\n",
       "    <tr>\n",
       "      <th>7840</th>\n",
       "      <td>NaN</td>\n",
       "      <td>London</td>\n",
       "      <td>Ageas Insurance Limited</td>\n",
       "      <td>Job Title: Actuarial Analyst\\r\\nSalary: up to ...</td>\n",
       "      <td>1</td>\n",
       "      <td>0</td>\n",
       "      <td>0</td>\n",
       "      <td>0</td>\n",
       "      <td>1</td>\n",
       "    </tr>\n",
       "    <tr>\n",
       "      <th>7841</th>\n",
       "      <td>NaN</td>\n",
       "      <td>Reigate</td>\n",
       "      <td>Ageas Insurance Limited</td>\n",
       "      <td>Actuarial Pricing Analyst:\\r\\nTesco Underwriti...</td>\n",
       "      <td>0</td>\n",
       "      <td>0</td>\n",
       "      <td>0</td>\n",
       "      <td>0</td>\n",
       "      <td>0</td>\n",
       "    </tr>\n",
       "    <tr>\n",
       "      <th>7842</th>\n",
       "      <td>NaN</td>\n",
       "      <td>London</td>\n",
       "      <td>Safetykleen</td>\n",
       "      <td>Who are Safetykleen?\\r\\nWe are the leading pro...</td>\n",
       "      <td>0</td>\n",
       "      <td>0</td>\n",
       "      <td>0</td>\n",
       "      <td>0</td>\n",
       "      <td>1</td>\n",
       "    </tr>\n",
       "  </tbody>\n",
       "</table>\n",
       "<p>7843 rows × 9 columns</p>\n",
       "</div>"
      ],
      "text/plain": [
       "                                  Title Location                  Company  \\\n",
       "0                        Data Scientist  Bromley                     OSTC   \n",
       "1     Biostatistician / Data Scientist    London           Warman O'Brien   \n",
       "2                        Data Scientist   London               ctrlio Ltd   \n",
       "3                 Junior Data Scientist   London                Novafutur   \n",
       "4                   Data Scientist Lead   London      JPMorgan Chase Bank   \n",
       "...                                 ...      ...                      ...   \n",
       "7838                                NaN   London                 CK Group   \n",
       "7839                                NaN   London                 CK Group   \n",
       "7840                                NaN  London   Ageas Insurance Limited   \n",
       "7841                                NaN  Reigate  Ageas Insurance Limited   \n",
       "7842                                NaN  London               Safetykleen   \n",
       "\n",
       "                                            Description  python  R_yn  spark  \\\n",
       "0     Company Description\\r\\nIn just over 15 years, ...       1     0      0   \n",
       "1     Biostatistician / Data Scientist - London\\r\\nI...       1     0      0   \n",
       "2     ctrlio helps motor insurers win customers more...       1     0      1   \n",
       "3     This is an opportunity to become a Data Scient...       1     0      0   \n",
       "4     Position Overview & Responsibilities:\\r\\nThis ...       1     0      0   \n",
       "...                                                 ...     ...   ...    ...   \n",
       "7838  Sam Whyley-Smith at CK Clinical is recruiting ...       0     0      0   \n",
       "7839  CK Clinical are recruiting for a Global Clinic...       0     0      0   \n",
       "7840  Job Title: Actuarial Analyst\\r\\nSalary: up to ...       1     0      0   \n",
       "7841  Actuarial Pricing Analyst:\\r\\nTesco Underwriti...       0     0      0   \n",
       "7842  Who are Safetykleen?\\r\\nWe are the leading pro...       0     0      0   \n",
       "\n",
       "      aws  excel  \n",
       "0       1      1  \n",
       "1       0      0  \n",
       "2       1      0  \n",
       "3       0      1  \n",
       "4       0      0  \n",
       "...   ...    ...  \n",
       "7838    0      0  \n",
       "7839    0      0  \n",
       "7840    0      1  \n",
       "7841    0      0  \n",
       "7842    0      1  \n",
       "\n",
       "[7843 rows x 9 columns]"
      ]
     },
     "execution_count": 302,
     "metadata": {},
     "output_type": "execute_result"
    }
   ],
   "source": [
    "df"
   ]
  },
  {
   "cell_type": "code",
   "execution_count": 257,
   "metadata": {},
   "outputs": [
    {
     "data": {
      "text/plain": [
       "array([[<AxesSubplot:title={'center':'python'}>,\n",
       "        <AxesSubplot:title={'center':'R_yn'}>],\n",
       "       [<AxesSubplot:title={'center':'spark'}>,\n",
       "        <AxesSubplot:title={'center':'aws'}>],\n",
       "       [<AxesSubplot:title={'center':'excel'}>, <AxesSubplot:>]],\n",
       "      dtype=object)"
      ]
     },
     "execution_count": 257,
     "metadata": {},
     "output_type": "execute_result"
    },
    {
     "data": {
      "image/png": "[encoded data removed]",
      "text/plain": [
       "<Figure size 432x288 with 6 Axes>"
      ]
     },
     "metadata": {
      "needs_background": "light"
     },
     "output_type": "display_data"
    }
   ],
   "source": [
    "df.hist(df.columns)"
   ]
  },
  {
   "cell_type": "code",
   "execution_count": 372,
   "metadata": {},
   "outputs": [],
   "source": [
    "df=df.dropna()"
   ]
  },
  {
   "cell_type": "code",
   "execution_count": 421,
   "metadata": {},
   "outputs": [],
   "source": [
    "\n",
    "\n",
    "df_cat= df[['Title', 'Location', 'Company','seniority']]"
   ]
  },
  {
   "cell_type": "code",
   "execution_count": 374,
   "metadata": {},
   "outputs": [
    {
     "name": "stdout",
     "output_type": "stream",
     "text": [
      "graph for Title: total = 20\n"
     ]
    },
    {
     "data": {
      "image/png": "[encoded data removed]",
      "text/plain": [
       "<Figure size 432x288 with 1 Axes>"
      ]
     },
     "metadata": {},
     "output_type": "display_data"
    },
    {
     "name": "stdout",
     "output_type": "stream",
     "text": [
      "graph for Location: total = 15\n"
     ]
    },
    {
     "data": {
      "image/png": "[encoded data removed]",
      "text/plain": [
       "<Figure size 432x288 with 1 Axes>"
      ]
     },
     "metadata": {},
     "output_type": "display_data"
    },
    {
     "name": "stdout",
     "output_type": "stream",
     "text": [
      "graph for Company: total = 20\n"
     ]
    },
    {
     "data": {
      "image/png": "[encoded data removed]",
      "text/plain": [
       "<Figure size 432x288 with 1 Axes>"
      ]
     },
     "metadata": {},
     "output_type": "display_data"
    }
   ],
   "source": [
    "for i in df_cat[['Title','Location','Company']].columns:\n",
    "    cat_num = df_cat[i].value_counts()[:20]\n",
    "    print(\"graph for %s: total = %d\" % (i, len(cat_num)))\n",
    "    chart = sns.barplot(x=cat_num.index, y=cat_num)\n",
    "    chart.set_xticklabels(chart.get_xticklabels(), rotation=90)\n",
    "    plt.show()\n"
   ]
  },
  {
   "cell_type": "code",
   "execution_count": 367,
   "metadata": {},
   "outputs": [
    {
     "data": {
      "text/plain": [
       "<AxesSubplot:xlabel='Total Number', ylabel='Company'>"
      ]
     },
     "execution_count": 367,
     "metadata": {},
     "output_type": "execute_result"
    },
    {
     "data": {
      "image/png": "[encoded data removed]",
      "text/plain": [
       "<Figure size 432x288 with 1 Axes>"
      ]
     },
     "metadata": {},
     "output_type": "display_data"
    }
   ],
   "source": [
    "\n",
    "group=df_cat.groupby('Company').count().sort_values('Title',ascending=False).iloc[:11]\n",
    "\n",
    "ax=sns.barplot(data=group,y=group.index,x=group['Title'])\n",
    "ax.set(xlabel='Total Number')\n",
    "plt.ylabel(\"Company\")\n",
    "ax\n",
    "\n",
    "\n"
   ]
  },
  {
   "cell_type": "code",
   "execution_count": 375,
   "metadata": {},
   "outputs": [
    {
     "data": {
      "application/vnd.plotly.v1+json": {
       "config": {
        "plotlyServerURL": "https://plot.ly"
       },
       "data": [
        {
         "alignmentgroup": "True",
         "hovertemplate": "Observations=%{marker.color}<br>Location=%{y}<extra></extra>",
         "legendgroup": "",
         "marker": {
          "color": [
           668,
           221,
           48,
           11,
           7,
           5,
           3,
           3,
           3,
           2,
           2
          ],
          "coloraxis": "coloraxis"
         },
         "name": "",
         "offsetgroup": "",
         "orientation": "h",
         "showlegend": false,
         "text": [
          668,
          221,
          48,
          11,
          7,
          5,
          3,
          3,
          3,
          2,
          2
         ],
         "textposition": "auto",
         "type": "bar",
         "x": [
          668,
          221,
          48,
          11,
          7,
          5,
          3,
          3,
          3,
          2,
          2
         ],
         "xaxis": "x",
         "y": [
          "London",
          "Bromley",
          "London ",
          "Harpend",
          "West Lo",
          "Padding",
          "Dartfor",
          "Richmon",
          "Slough",
          "Twicken",
          "North L"
         ],
         "yaxis": "y"
        }
       ],
       "layout": {
        "barmode": "relative",
        "coloraxis": {
         "colorbar": {
          "title": {
           "text": "Observations"
          }
         },
         "colorscale": [
          [
           0,
           "rgb(196, 230, 195)"
          ],
          [
           0.16666666666666666,
           "rgb(150, 210, 164)"
          ],
          [
           0.3333333333333333,
           "rgb(109, 188, 144)"
          ],
          [
           0.5,
           "rgb(77, 162, 132)"
          ],
          [
           0.6666666666666666,
           "rgb(54, 135, 122)"
          ],
          [
           0.8333333333333334,
           "rgb(38, 107, 110)"
          ],
          [
           1,
           "rgb(29, 79, 96)"
          ]
         ]
        },
        "legend": {
         "tracegroupgap": 0
        },
        "template": {
         "data": {
          "bar": [
           {
            "error_x": {
             "color": "#2a3f5f"
            },
            "error_y": {
             "color": "#2a3f5f"
            },
            "marker": {
             "line": {
              "color": "#E5ECF6",
              "width": 0.5
             }
            },
            "type": "bar"
           }
          ],
          "barpolar": [
           {
            "marker": {
             "line": {
              "color": "#E5ECF6",
              "width": 0.5
             }
            },
            "type": "barpolar"
           }
          ],
          "carpet": [
           {
            "aaxis": {
             "endlinecolor": "#2a3f5f",
             "gridcolor": "white",
             "linecolor": "white",
             "minorgridcolor": "white",
             "startlinecolor": "#2a3f5f"
            },
            "baxis": {
             "endlinecolor": "#2a3f5f",
             "gridcolor": "white",
             "linecolor": "white",
             "minorgridcolor": "white",
             "startlinecolor": "#2a3f5f"
            },
            "type": "carpet"
           }
          ],
          "choropleth": [
           {
            "colorbar": {
             "outlinewidth": 0,
             "ticks": ""
            },
            "type": "choropleth"
           }
          ],
          "contour": [
           {
            "colorbar": {
             "outlinewidth": 0,
             "ticks": ""
            },
            "colorscale": [
             [
              0,
              "#0d0887"
             ],
             [
              0.1111111111111111,
              "#46039f"
             ],
             [
              0.2222222222222222,
              "#7201a8"
             ],
             [
              0.3333333333333333,
              "#9c179e"
             ],
             [
              0.4444444444444444,
              "#bd3786"
             ],
             [
              0.5555555555555556,
              "#d8576b"
             ],
             [
              0.6666666666666666,
              "#ed7953"
             ],
             [
              0.7777777777777778,
              "#fb9f3a"
             ],
             [
              0.8888888888888888,
              "#fdca26"
             ],
             [
              1,
              "#f0f921"
             ]
            ],
            "type": "contour"
           }
          ],
          "contourcarpet": [
           {
            "colorbar": {
             "outlinewidth": 0,
             "ticks": ""
            },
            "type": "contourcarpet"
           }
          ],
          "heatmap": [
           {
            "colorbar": {
             "outlinewidth": 0,
             "ticks": ""
            },
            "colorscale": [
             [
              0,
              "#0d0887"
             ],
             [
              0.1111111111111111,
              "#46039f"
             ],
             [
              0.2222222222222222,
              "#7201a8"
             ],
             [
              0.3333333333333333,
              "#9c179e"
             ],
             [
              0.4444444444444444,
              "#bd3786"
             ],
             [
              0.5555555555555556,
              "#d8576b"
             ],
             [
              0.6666666666666666,
              "#ed7953"
             ],
             [
              0.7777777777777778,
              "#fb9f3a"
             ],
             [
              0.8888888888888888,
              "#fdca26"
             ],
             [
              1,
              "#f0f921"
             ]
            ],
            "type": "heatmap"
           }
          ],
          "heatmapgl": [
           {
            "colorbar": {
             "outlinewidth": 0,
             "ticks": ""
            },
            "colorscale": [
             [
              0,
              "#0d0887"
             ],
             [
              0.1111111111111111,
              "#46039f"
             ],
             [
              0.2222222222222222,
              "#7201a8"
             ],
             [
              0.3333333333333333,
              "#9c179e"
             ],
             [
              0.4444444444444444,
              "#bd3786"
             ],
             [
              0.5555555555555556,
              "#d8576b"
             ],
             [
              0.6666666666666666,
              "#ed7953"
             ],
             [
              0.7777777777777778,
              "#fb9f3a"
             ],
             [
              0.8888888888888888,
              "#fdca26"
             ],
             [
              1,
              "#f0f921"
             ]
            ],
            "type": "heatmapgl"
           }
          ],
          "histogram": [
           {
            "marker": {
             "colorbar": {
              "outlinewidth": 0,
              "ticks": ""
             }
            },
            "type": "histogram"
           }
          ],
          "histogram2d": [
           {
            "colorbar": {
             "outlinewidth": 0,
             "ticks": ""
            },
            "colorscale": [
             [
              0,
              "#0d0887"
             ],
             [
              0.1111111111111111,
              "#46039f"
             ],
             [
              0.2222222222222222,
              "#7201a8"
             ],
             [
              0.3333333333333333,
              "#9c179e"
             ],
             [
              0.4444444444444444,
              "#bd3786"
             ],
             [
              0.5555555555555556,
              "#d8576b"
             ],
             [
              0.6666666666666666,
              "#ed7953"
             ],
             [
              0.7777777777777778,
              "#fb9f3a"
             ],
             [
              0.8888888888888888,
              "#fdca26"
             ],
             [
              1,
              "#f0f921"
             ]
            ],
            "type": "histogram2d"
           }
          ],
          "histogram2dcontour": [
           {
            "colorbar": {
             "outlinewidth": 0,
             "ticks": ""
            },
            "colorscale": [
             [
              0,
              "#0d0887"
             ],
             [
              0.1111111111111111,
              "#46039f"
             ],
             [
              0.2222222222222222,
              "#7201a8"
             ],
             [
              0.3333333333333333,
              "#9c179e"
             ],
             [
              0.4444444444444444,
              "#bd3786"
             ],
             [
              0.5555555555555556,
              "#d8576b"
             ],
             [
              0.6666666666666666,
              "#ed7953"
             ],
             [
              0.7777777777777778,
              "#fb9f3a"
             ],
             [
              0.8888888888888888,
              "#fdca26"
             ],
             [
              1,
              "#f0f921"
             ]
            ],
            "type": "histogram2dcontour"
           }
          ],
          "mesh3d": [
           {
            "colorbar": {
             "outlinewidth": 0,
             "ticks": ""
            },
            "type": "mesh3d"
           }
          ],
          "parcoords": [
           {
            "line": {
             "colorbar": {
              "outlinewidth": 0,
              "ticks": ""
             }
            },
            "type": "parcoords"
           }
          ],
          "pie": [
           {
            "automargin": true,
            "type": "pie"
           }
          ],
          "scatter": [
           {
            "marker": {
             "colorbar": {
              "outlinewidth": 0,
              "ticks": ""
             }
            },
            "type": "scatter"
           }
          ],
          "scatter3d": [
           {
            "line": {
             "colorbar": {
              "outlinewidth": 0,
              "ticks": ""
             }
            },
            "marker": {
             "colorbar": {
              "outlinewidth": 0,
              "ticks": ""
             }
            },
            "type": "scatter3d"
           }
          ],
          "scattercarpet": [
           {
            "marker": {
             "colorbar": {
              "outlinewidth": 0,
              "ticks": ""
             }
            },
            "type": "scattercarpet"
           }
          ],
          "scattergeo": [
           {
            "marker": {
             "colorbar": {
              "outlinewidth": 0,
              "ticks": ""
             }
            },
            "type": "scattergeo"
           }
          ],
          "scattergl": [
           {
            "marker": {
             "colorbar": {
              "outlinewidth": 0,
              "ticks": ""
             }
            },
            "type": "scattergl"
           }
          ],
          "scattermapbox": [
           {
            "marker": {
             "colorbar": {
              "outlinewidth": 0,
              "ticks": ""
             }
            },
            "type": "scattermapbox"
           }
          ],
          "scatterpolar": [
           {
            "marker": {
             "colorbar": {
              "outlinewidth": 0,
              "ticks": ""
             }
            },
            "type": "scatterpolar"
           }
          ],
          "scatterpolargl": [
           {
            "marker": {
             "colorbar": {
              "outlinewidth": 0,
              "ticks": ""
             }
            },
            "type": "scatterpolargl"
           }
          ],
          "scatterternary": [
           {
            "marker": {
             "colorbar": {
              "outlinewidth": 0,
              "ticks": ""
             }
            },
            "type": "scatterternary"
           }
          ],
          "surface": [
           {
            "colorbar": {
             "outlinewidth": 0,
             "ticks": ""
            },
            "colorscale": [
             [
              0,
              "#0d0887"
             ],
             [
              0.1111111111111111,
              "#46039f"
             ],
             [
              0.2222222222222222,
              "#7201a8"
             ],
             [
              0.3333333333333333,
              "#9c179e"
             ],
             [
              0.4444444444444444,
              "#bd3786"
             ],
             [
              0.5555555555555556,
              "#d8576b"
             ],
             [
              0.6666666666666666,
              "#ed7953"
             ],
             [
              0.7777777777777778,
              "#fb9f3a"
             ],
             [
              0.8888888888888888,
              "#fdca26"
             ],
             [
              1,
              "#f0f921"
             ]
            ],
            "type": "surface"
           }
          ],
          "table": [
           {
            "cells": {
             "fill": {
              "color": "#EBF0F8"
             },
             "line": {
              "color": "white"
             }
            },
            "header": {
             "fill": {
              "color": "#C8D4E3"
             },
             "line": {
              "color": "white"
             }
            },
            "type": "table"
           }
          ]
         },
         "layout": {
          "annotationdefaults": {
           "arrowcolor": "#2a3f5f",
           "arrowhead": 0,
           "arrowwidth": 1
          },
          "autotypenumbers": "strict",
          "coloraxis": {
           "colorbar": {
            "outlinewidth": 0,
            "ticks": ""
           }
          },
          "colorscale": {
           "diverging": [
            [
             0,
             "#8e0152"
            ],
            [
             0.1,
             "#c51b7d"
            ],
            [
             0.2,
             "#de77ae"
            ],
            [
             0.3,
             "#f1b6da"
            ],
            [
             0.4,
             "#fde0ef"
            ],
            [
             0.5,
             "#f7f7f7"
            ],
            [
             0.6,
             "#e6f5d0"
            ],
            [
             0.7,
             "#b8e186"
            ],
            [
             0.8,
             "#7fbc41"
            ],
            [
             0.9,
             "#4d9221"
            ],
            [
             1,
             "#276419"
            ]
           ],
           "sequential": [
            [
             0,
             "#0d0887"
            ],
            [
             0.1111111111111111,
             "#46039f"
            ],
            [
             0.2222222222222222,
             "#7201a8"
            ],
            [
             0.3333333333333333,
             "#9c179e"
            ],
            [
             0.4444444444444444,
             "#bd3786"
            ],
            [
             0.5555555555555556,
             "#d8576b"
            ],
            [
             0.6666666666666666,
             "#ed7953"
            ],
            [
             0.7777777777777778,
             "#fb9f3a"
            ],
            [
             0.8888888888888888,
             "#fdca26"
            ],
            [
             1,
             "#f0f921"
            ]
           ],
           "sequentialminus": [
            [
             0,
             "#0d0887"
            ],
            [
             0.1111111111111111,
             "#46039f"
            ],
            [
             0.2222222222222222,
             "#7201a8"
            ],
            [
             0.3333333333333333,
             "#9c179e"
            ],
            [
             0.4444444444444444,
             "#bd3786"
            ],
            [
             0.5555555555555556,
             "#d8576b"
            ],
            [
             0.6666666666666666,
             "#ed7953"
            ],
            [
             0.7777777777777778,
             "#fb9f3a"
            ],
            [
             0.8888888888888888,
             "#fdca26"
            ],
            [
             1,
             "#f0f921"
            ]
           ]
          },
          "colorway": [
           "#636efa",
           "#EF553B",
           "#00cc96",
           "#ab63fa",
           "#FFA15A",
           "#19d3f3",
           "#FF6692",
           "#B6E880",
           "#FF97FF",
           "#FECB52"
          ],
          "font": {
           "color": "#2a3f5f"
          },
          "geo": {
           "bgcolor": "white",
           "lakecolor": "white",
           "landcolor": "#E5ECF6",
           "showlakes": true,
           "showland": true,
           "subunitcolor": "white"
          },
          "hoverlabel": {
           "align": "left"
          },
          "hovermode": "closest",
          "mapbox": {
           "style": "light"
          },
          "paper_bgcolor": "white",
          "plot_bgcolor": "#E5ECF6",
          "polar": {
           "angularaxis": {
            "gridcolor": "white",
            "linecolor": "white",
            "ticks": ""
           },
           "bgcolor": "#E5ECF6",
           "radialaxis": {
            "gridcolor": "white",
            "linecolor": "white",
            "ticks": ""
           }
          },
          "scene": {
           "xaxis": {
            "backgroundcolor": "#E5ECF6",
            "gridcolor": "white",
            "gridwidth": 2,
            "linecolor": "white",
            "showbackground": true,
            "ticks": "",
            "zerolinecolor": "white"
           },
           "yaxis": {
            "backgroundcolor": "#E5ECF6",
            "gridcolor": "white",
            "gridwidth": 2,
            "linecolor": "white",
            "showbackground": true,
            "ticks": "",
            "zerolinecolor": "white"
           },
           "zaxis": {
            "backgroundcolor": "#E5ECF6",
            "gridcolor": "white",
            "gridwidth": 2,
            "linecolor": "white",
            "showbackground": true,
            "ticks": "",
            "zerolinecolor": "white"
           }
          },
          "shapedefaults": {
           "line": {
            "color": "#2a3f5f"
           }
          },
          "ternary": {
           "aaxis": {
            "gridcolor": "white",
            "linecolor": "white",
            "ticks": ""
           },
           "baxis": {
            "gridcolor": "white",
            "linecolor": "white",
            "ticks": ""
           },
           "bgcolor": "#E5ECF6",
           "caxis": {
            "gridcolor": "white",
            "linecolor": "white",
            "ticks": ""
           }
          },
          "title": {
           "x": 0.05
          },
          "xaxis": {
           "automargin": true,
           "gridcolor": "white",
           "linecolor": "white",
           "ticks": "",
           "title": {
            "standoff": 15
           },
           "zerolinecolor": "white",
           "zerolinewidth": 2
          },
          "yaxis": {
           "automargin": true,
           "gridcolor": "white",
           "linecolor": "white",
           "ticks": "",
           "title": {
            "standoff": 15
           },
           "zerolinecolor": "white",
           "zerolinewidth": 2
          }
         }
        },
        "title": {
         "text": "<b>Top 10 locations with the higher Data Scientist oppotunities  in UK</b>"
        },
        "xaxis": {
         "anchor": "y",
         "domain": [
          0,
          1
         ],
         "title": {
          "text": "Observations"
         }
        },
        "yaxis": {
         "anchor": "x",
         "domain": [
          0,
          1
         ],
         "title": {
          "text": "Location"
         }
        }
       }
      },
      "text/html": [
       "<div>                            <div id=\"41601d2b-63bc-422e-b016-357f2ae67999\" class=\"plotly-graph-div\" style=\"height:525px; width:100%;\"></div>            <script type=\"text/javascript\">                require([\"plotly\"], function(Plotly) {                    window.PLOTLYENV=window.PLOTLYENV || {};                                    if (document.getElementById(\"41601d2b-63bc-422e-b016-357f2ae67999\")) {                    Plotly.newPlot(                        \"41601d2b-63bc-422e-b016-357f2ae67999\",                        [{\"alignmentgroup\": \"True\", \"hovertemplate\": \"Observations=%{marker.color}<br>Location=%{y}<extra></extra>\", \"legendgroup\": \"\", \"marker\": {\"color\": [668, 221, 48, 11, 7, 5, 3, 3, 3, 2, 2], \"coloraxis\": \"coloraxis\"}, \"name\": \"\", \"offsetgroup\": \"\", \"orientation\": \"h\", \"showlegend\": false, \"text\": [668.0, 221.0, 48.0, 11.0, 7.0, 5.0, 3.0, 3.0, 3.0, 2.0, 2.0], \"textposition\": \"auto\", \"type\": \"bar\", \"x\": [668, 221, 48, 11, 7, 5, 3, 3, 3, 2, 2], \"xaxis\": \"x\", \"y\": [\"London\", \"Bromley\", \"London \", \"Harpend\", \"West Lo\", \"Padding\", \"Dartfor\", \"Richmon\", \"Slough\", \"Twicken\", \"North L\"], \"yaxis\": \"y\"}],                        {\"barmode\": \"relative\", \"coloraxis\": {\"colorbar\": {\"title\": {\"text\": \"Observations\"}}, \"colorscale\": [[0.0, \"rgb(196, 230, 195)\"], [0.16666666666666666, \"rgb(150, 210, 164)\"], [0.3333333333333333, \"rgb(109, 188, 144)\"], [0.5, \"rgb(77, 162, 132)\"], [0.6666666666666666, \"rgb(54, 135, 122)\"], [0.8333333333333334, \"rgb(38, 107, 110)\"], [1.0, \"rgb(29, 79, 96)\"]]}, \"legend\": {\"tracegroupgap\": 0}, \"template\": {\"data\": {\"bar\": [{\"error_x\": {\"color\": \"#2a3f5f\"}, \"error_y\": {\"color\": \"#2a3f5f\"}, \"marker\": {\"line\": {\"color\": \"#E5ECF6\", \"width\": 0.5}}, \"type\": \"bar\"}], \"barpolar\": [{\"marker\": {\"line\": {\"color\": \"#E5ECF6\", \"width\": 0.5}}, \"type\": \"barpolar\"}], \"carpet\": [{\"aaxis\": {\"endlinecolor\": \"#2a3f5f\", \"gridcolor\": \"white\", \"linecolor\": \"white\", \"minorgridcolor\": \"white\", \"startlinecolor\": \"#2a3f5f\"}, \"baxis\": {\"endlinecolor\": \"#2a3f5f\", \"gridcolor\": \"white\", \"linecolor\": \"white\", \"minorgridcolor\": \"white\", \"startlinecolor\": \"#2a3f5f\"}, \"type\": \"carpet\"}], \"choropleth\": [{\"colorbar\": {\"outlinewidth\": 0, \"ticks\": \"\"}, \"type\": \"choropleth\"}], \"contour\": [{\"colorbar\": {\"outlinewidth\": 0, \"ticks\": \"\"}, \"colorscale\": [[0.0, \"#0d0887\"], [0.1111111111111111, \"#46039f\"], [0.2222222222222222, \"#7201a8\"], [0.3333333333333333, \"#9c179e\"], [0.4444444444444444, \"#bd3786\"], [0.5555555555555556, \"#d8576b\"], [0.6666666666666666, \"#ed7953\"], [0.7777777777777778, \"#fb9f3a\"], [0.8888888888888888, \"#fdca26\"], [1.0, \"#f0f921\"]], \"type\": \"contour\"}], \"contourcarpet\": [{\"colorbar\": {\"outlinewidth\": 0, \"ticks\": \"\"}, \"type\": \"contourcarpet\"}], \"heatmap\": [{\"colorbar\": {\"outlinewidth\": 0, \"ticks\": \"\"}, \"colorscale\": [[0.0, \"#0d0887\"], [0.1111111111111111, \"#46039f\"], [0.2222222222222222, \"#7201a8\"], [0.3333333333333333, \"#9c179e\"], [0.4444444444444444, \"#bd3786\"], [0.5555555555555556, \"#d8576b\"], [0.6666666666666666, \"#ed7953\"], [0.7777777777777778, \"#fb9f3a\"], [0.8888888888888888, \"#fdca26\"], [1.0, \"#f0f921\"]], \"type\": \"heatmap\"}], \"heatmapgl\": [{\"colorbar\": {\"outlinewidth\": 0, \"ticks\": \"\"}, \"colorscale\": [[0.0, \"#0d0887\"], [0.1111111111111111, \"#46039f\"], [0.2222222222222222, \"#7201a8\"], [0.3333333333333333, \"#9c179e\"], [0.4444444444444444, \"#bd3786\"], [0.5555555555555556, \"#d8576b\"], [0.6666666666666666, \"#ed7953\"], [0.7777777777777778, \"#fb9f3a\"], [0.8888888888888888, \"#fdca26\"], [1.0, \"#f0f921\"]], \"type\": \"heatmapgl\"}], \"histogram\": [{\"marker\": {\"colorbar\": {\"outlinewidth\": 0, \"ticks\": \"\"}}, \"type\": \"histogram\"}], \"histogram2d\": [{\"colorbar\": {\"outlinewidth\": 0, \"ticks\": \"\"}, \"colorscale\": [[0.0, \"#0d0887\"], [0.1111111111111111, \"#46039f\"], [0.2222222222222222, \"#7201a8\"], [0.3333333333333333, \"#9c179e\"], [0.4444444444444444, \"#bd3786\"], [0.5555555555555556, \"#d8576b\"], [0.6666666666666666, \"#ed7953\"], [0.7777777777777778, \"#fb9f3a\"], [0.8888888888888888, \"#fdca26\"], [1.0, \"#f0f921\"]], \"type\": \"histogram2d\"}], \"histogram2dcontour\": [{\"colorbar\": {\"outlinewidth\": 0, \"ticks\": \"\"}, \"colorscale\": [[0.0, \"#0d0887\"], [0.1111111111111111, \"#46039f\"], [0.2222222222222222, \"#7201a8\"], [0.3333333333333333, \"#9c179e\"], [0.4444444444444444, \"#bd3786\"], [0.5555555555555556, \"#d8576b\"], [0.6666666666666666, \"#ed7953\"], [0.7777777777777778, \"#fb9f3a\"], [0.8888888888888888, \"#fdca26\"], [1.0, \"#f0f921\"]], \"type\": \"histogram2dcontour\"}], \"mesh3d\": [{\"colorbar\": {\"outlinewidth\": 0, \"ticks\": \"\"}, \"type\": \"mesh3d\"}], \"parcoords\": [{\"line\": {\"colorbar\": {\"outlinewidth\": 0, \"ticks\": \"\"}}, \"type\": \"parcoords\"}], \"pie\": [{\"automargin\": true, \"type\": \"pie\"}], \"scatter\": [{\"marker\": {\"colorbar\": {\"outlinewidth\": 0, \"ticks\": \"\"}}, \"type\": \"scatter\"}], \"scatter3d\": [{\"line\": {\"colorbar\": {\"outlinewidth\": 0, \"ticks\": \"\"}}, \"marker\": {\"colorbar\": {\"outlinewidth\": 0, \"ticks\": \"\"}}, \"type\": \"scatter3d\"}], \"scattercarpet\": [{\"marker\": {\"colorbar\": {\"outlinewidth\": 0, \"ticks\": \"\"}}, \"type\": \"scattercarpet\"}], \"scattergeo\": [{\"marker\": {\"colorbar\": {\"outlinewidth\": 0, \"ticks\": \"\"}}, \"type\": \"scattergeo\"}], \"scattergl\": [{\"marker\": {\"colorbar\": {\"outlinewidth\": 0, \"ticks\": \"\"}}, \"type\": \"scattergl\"}], \"scattermapbox\": [{\"marker\": {\"colorbar\": {\"outlinewidth\": 0, \"ticks\": \"\"}}, \"type\": \"scattermapbox\"}], \"scatterpolar\": [{\"marker\": {\"colorbar\": {\"outlinewidth\": 0, \"ticks\": \"\"}}, \"type\": \"scatterpolar\"}], \"scatterpolargl\": [{\"marker\": {\"colorbar\": {\"outlinewidth\": 0, \"ticks\": \"\"}}, \"type\": \"scatterpolargl\"}], \"scatterternary\": [{\"marker\": {\"colorbar\": {\"outlinewidth\": 0, \"ticks\": \"\"}}, \"type\": \"scatterternary\"}], \"surface\": [{\"colorbar\": {\"outlinewidth\": 0, \"ticks\": \"\"}, \"colorscale\": [[0.0, \"#0d0887\"], [0.1111111111111111, \"#46039f\"], [0.2222222222222222, \"#7201a8\"], [0.3333333333333333, \"#9c179e\"], [0.4444444444444444, \"#bd3786\"], [0.5555555555555556, \"#d8576b\"], [0.6666666666666666, \"#ed7953\"], [0.7777777777777778, \"#fb9f3a\"], [0.8888888888888888, \"#fdca26\"], [1.0, \"#f0f921\"]], \"type\": \"surface\"}], \"table\": [{\"cells\": {\"fill\": {\"color\": \"#EBF0F8\"}, \"line\": {\"color\": \"white\"}}, \"header\": {\"fill\": {\"color\": \"#C8D4E3\"}, \"line\": {\"color\": \"white\"}}, \"type\": \"table\"}]}, \"layout\": {\"annotationdefaults\": {\"arrowcolor\": \"#2a3f5f\", \"arrowhead\": 0, \"arrowwidth\": 1}, \"autotypenumbers\": \"strict\", \"coloraxis\": {\"colorbar\": {\"outlinewidth\": 0, \"ticks\": \"\"}}, \"colorscale\": {\"diverging\": [[0, \"#8e0152\"], [0.1, \"#c51b7d\"], [0.2, \"#de77ae\"], [0.3, \"#f1b6da\"], [0.4, \"#fde0ef\"], [0.5, \"#f7f7f7\"], [0.6, \"#e6f5d0\"], [0.7, \"#b8e186\"], [0.8, \"#7fbc41\"], [0.9, \"#4d9221\"], [1, \"#276419\"]], \"sequential\": [[0.0, \"#0d0887\"], [0.1111111111111111, \"#46039f\"], [0.2222222222222222, \"#7201a8\"], [0.3333333333333333, \"#9c179e\"], [0.4444444444444444, \"#bd3786\"], [0.5555555555555556, \"#d8576b\"], [0.6666666666666666, \"#ed7953\"], [0.7777777777777778, \"#fb9f3a\"], [0.8888888888888888, \"#fdca26\"], [1.0, \"#f0f921\"]], \"sequentialminus\": [[0.0, \"#0d0887\"], [0.1111111111111111, \"#46039f\"], [0.2222222222222222, \"#7201a8\"], [0.3333333333333333, \"#9c179e\"], [0.4444444444444444, \"#bd3786\"], [0.5555555555555556, \"#d8576b\"], [0.6666666666666666, \"#ed7953\"], [0.7777777777777778, \"#fb9f3a\"], [0.8888888888888888, \"#fdca26\"], [1.0, \"#f0f921\"]]}, \"colorway\": [\"#636efa\", \"#EF553B\", \"#00cc96\", \"#ab63fa\", \"#FFA15A\", \"#19d3f3\", \"#FF6692\", \"#B6E880\", \"#FF97FF\", \"#FECB52\"], \"font\": {\"color\": \"#2a3f5f\"}, \"geo\": {\"bgcolor\": \"white\", \"lakecolor\": \"white\", \"landcolor\": \"#E5ECF6\", \"showlakes\": true, \"showland\": true, \"subunitcolor\": \"white\"}, \"hoverlabel\": {\"align\": \"left\"}, \"hovermode\": \"closest\", \"mapbox\": {\"style\": \"light\"}, \"paper_bgcolor\": \"white\", \"plot_bgcolor\": \"#E5ECF6\", \"polar\": {\"angularaxis\": {\"gridcolor\": \"white\", \"linecolor\": \"white\", \"ticks\": \"\"}, \"bgcolor\": \"#E5ECF6\", \"radialaxis\": {\"gridcolor\": \"white\", \"linecolor\": \"white\", \"ticks\": \"\"}}, \"scene\": {\"xaxis\": {\"backgroundcolor\": \"#E5ECF6\", \"gridcolor\": \"white\", \"gridwidth\": 2, \"linecolor\": \"white\", \"showbackground\": true, \"ticks\": \"\", \"zerolinecolor\": \"white\"}, \"yaxis\": {\"backgroundcolor\": \"#E5ECF6\", \"gridcolor\": \"white\", \"gridwidth\": 2, \"linecolor\": \"white\", \"showbackground\": true, \"ticks\": \"\", \"zerolinecolor\": \"white\"}, \"zaxis\": {\"backgroundcolor\": \"#E5ECF6\", \"gridcolor\": \"white\", \"gridwidth\": 2, \"linecolor\": \"white\", \"showbackground\": true, \"ticks\": \"\", \"zerolinecolor\": \"white\"}}, \"shapedefaults\": {\"line\": {\"color\": \"#2a3f5f\"}}, \"ternary\": {\"aaxis\": {\"gridcolor\": \"white\", \"linecolor\": \"white\", \"ticks\": \"\"}, \"baxis\": {\"gridcolor\": \"white\", \"linecolor\": \"white\", \"ticks\": \"\"}, \"bgcolor\": \"#E5ECF6\", \"caxis\": {\"gridcolor\": \"white\", \"linecolor\": \"white\", \"ticks\": \"\"}}, \"title\": {\"x\": 0.05}, \"xaxis\": {\"automargin\": true, \"gridcolor\": \"white\", \"linecolor\": \"white\", \"ticks\": \"\", \"title\": {\"standoff\": 15}, \"zerolinecolor\": \"white\", \"zerolinewidth\": 2}, \"yaxis\": {\"automargin\": true, \"gridcolor\": \"white\", \"linecolor\": \"white\", \"ticks\": \"\", \"title\": {\"standoff\": 15}, \"zerolinecolor\": \"white\", \"zerolinewidth\": 2}}}, \"title\": {\"text\": \"<b>Top 10 locations with the higher Data Scientist oppotunities  in UK</b>\"}, \"xaxis\": {\"anchor\": \"y\", \"domain\": [0.0, 1.0], \"title\": {\"text\": \"Observations\"}}, \"yaxis\": {\"anchor\": \"x\", \"domain\": [0.0, 1.0], \"title\": {\"text\": \"Location\"}}},                        {\"responsive\": true}                    ).then(function(){\n",
       "                            \n",
       "var gd = document.getElementById('41601d2b-63bc-422e-b016-357f2ae67999');\n",
       "var x = new MutationObserver(function (mutations, observer) {{\n",
       "        var display = window.getComputedStyle(gd).display;\n",
       "        if (!display || display === 'none') {{\n",
       "            console.log([gd, 'removed!']);\n",
       "            Plotly.purge(gd);\n",
       "            observer.disconnect();\n",
       "        }}\n",
       "}});\n",
       "\n",
       "// Listen for the removal of the full notebook cells\n",
       "var notebookContainer = gd.closest('#notebook-container');\n",
       "if (notebookContainer) {{\n",
       "    x.observe(notebookContainer, {childList: true});\n",
       "}}\n",
       "\n",
       "// Listen for the clearing of the current output cell\n",
       "var outputEl = gd.closest('.output');\n",
       "if (outputEl) {{\n",
       "    x.observe(outputEl, {childList: true});\n",
       "}}\n",
       "\n",
       "                        })                };                });            </script>        </div>"
      ]
     },
     "metadata": {},
     "output_type": "display_data"
    }
   ],
   "source": [
    "location = df_cat['Location'].value_counts().reset_index()\n",
    "location.columns = ['Location', 'Observations']\n",
    "\n",
    "fig = px.bar(location[:11], x = 'Observations', y = 'Location', orientation = 'h', color = 'Observations',\n",
    "             color_continuous_scale = 'Blugrn', text = 'Observations', title = '<b>Top 10 locations with the higher Data Scientist oppotunities  in UK</b>')\n",
    "fig.show()"
   ]
  },
  {
   "cell_type": "code",
   "execution_count": null,
   "metadata": {},
   "outputs": [],
   "source": [
    "\n"
   ]
  },
  {
   "cell_type": "code",
   "execution_count": null,
   "metadata": {},
   "outputs": [],
   "source": []
  },
  {
   "cell_type": "code",
   "execution_count": 409,
   "metadata": {},
   "outputs": [],
   "source": [
    "def seniority(title):\n",
    "    if 'sr' in title.lower() or 'senior' in title.lower() or 'sr' in title.lower() or 'Lead' in title.lower() or 'principal' in title.lower():\n",
    "            return 'senior'\n",
    "    elif 'ju' in title.lower() or 'jr.' in title.lower():\n",
    "        return 'Junior'\n",
    "    else:\n",
    "        return 'Data Scientis'"
   ]
  },
  {
   "cell_type": "code",
   "execution_count": 416,
   "metadata": {},
   "outputs": [
    {
     "data": {
      "text/html": [
       "<div>\n",
       "<style scoped>\n",
       "    .dataframe tbody tr th:only-of-type {\n",
       "        vertical-align: middle;\n",
       "    }\n",
       "\n",
       "    .dataframe tbody tr th {\n",
       "        vertical-align: top;\n",
       "    }\n",
       "\n",
       "    .dataframe thead th {\n",
       "        text-align: right;\n",
       "    }\n",
       "</style>\n",
       "<table border=\"1\" class=\"dataframe\">\n",
       "  <thead>\n",
       "    <tr style=\"text-align: right;\">\n",
       "      <th></th>\n",
       "      <th>Title</th>\n",
       "      <th>Location</th>\n",
       "      <th>Company</th>\n",
       "      <th>Description</th>\n",
       "      <th>python</th>\n",
       "      <th>R_yn</th>\n",
       "      <th>spark</th>\n",
       "      <th>aws</th>\n",
       "      <th>excel</th>\n",
       "      <th>SeniorDataScientist</th>\n",
       "      <th>JuniorDataScientist</th>\n",
       "      <th>seniority</th>\n",
       "    </tr>\n",
       "  </thead>\n",
       "  <tbody>\n",
       "    <tr>\n",
       "      <th>0</th>\n",
       "      <td>Data Scientist</td>\n",
       "      <td>Bromley</td>\n",
       "      <td>OSTC</td>\n",
       "      <td>Company Description\\r\\nIn just over 15 years, ...</td>\n",
       "      <td>1</td>\n",
       "      <td>0</td>\n",
       "      <td>0</td>\n",
       "      <td>1</td>\n",
       "      <td>1</td>\n",
       "      <td>0</td>\n",
       "      <td>0</td>\n",
       "      <td>Data Scientis</td>\n",
       "    </tr>\n",
       "    <tr>\n",
       "      <th>1</th>\n",
       "      <td>Biostatistician / Data Scientist</td>\n",
       "      <td>London</td>\n",
       "      <td>Warman O'Brien</td>\n",
       "      <td>Biostatistician / Data Scientist - London\\r\\nI...</td>\n",
       "      <td>1</td>\n",
       "      <td>0</td>\n",
       "      <td>0</td>\n",
       "      <td>0</td>\n",
       "      <td>0</td>\n",
       "      <td>0</td>\n",
       "      <td>0</td>\n",
       "      <td>Data Scientis</td>\n",
       "    </tr>\n",
       "    <tr>\n",
       "      <th>2</th>\n",
       "      <td>Data Scientist</td>\n",
       "      <td>London</td>\n",
       "      <td>ctrlio Ltd</td>\n",
       "      <td>ctrlio helps motor insurers win customers more...</td>\n",
       "      <td>1</td>\n",
       "      <td>0</td>\n",
       "      <td>1</td>\n",
       "      <td>1</td>\n",
       "      <td>0</td>\n",
       "      <td>0</td>\n",
       "      <td>0</td>\n",
       "      <td>Data Scientis</td>\n",
       "    </tr>\n",
       "    <tr>\n",
       "      <th>3</th>\n",
       "      <td>Junior Data Scientist</td>\n",
       "      <td>London</td>\n",
       "      <td>Novafutur</td>\n",
       "      <td>This is an opportunity to become a Data Scient...</td>\n",
       "      <td>1</td>\n",
       "      <td>0</td>\n",
       "      <td>0</td>\n",
       "      <td>0</td>\n",
       "      <td>1</td>\n",
       "      <td>0</td>\n",
       "      <td>0</td>\n",
       "      <td>Junior</td>\n",
       "    </tr>\n",
       "    <tr>\n",
       "      <th>4</th>\n",
       "      <td>Data Scientist Lead</td>\n",
       "      <td>London</td>\n",
       "      <td>JPMorgan Chase Bank</td>\n",
       "      <td>Position Overview &amp; Responsibilities:\\r\\nThis ...</td>\n",
       "      <td>1</td>\n",
       "      <td>0</td>\n",
       "      <td>0</td>\n",
       "      <td>0</td>\n",
       "      <td>0</td>\n",
       "      <td>0</td>\n",
       "      <td>0</td>\n",
       "      <td>Data Scientis</td>\n",
       "    </tr>\n",
       "    <tr>\n",
       "      <th>...</th>\n",
       "      <td>...</td>\n",
       "      <td>...</td>\n",
       "      <td>...</td>\n",
       "      <td>...</td>\n",
       "      <td>...</td>\n",
       "      <td>...</td>\n",
       "      <td>...</td>\n",
       "      <td>...</td>\n",
       "      <td>...</td>\n",
       "      <td>...</td>\n",
       "      <td>...</td>\n",
       "      <td>...</td>\n",
       "    </tr>\n",
       "    <tr>\n",
       "      <th>7806</th>\n",
       "      <td>Data Scientist</td>\n",
       "      <td>Bromley</td>\n",
       "      <td>OSTC</td>\n",
       "      <td>Company Description\\r\\nIn just over 15 years, ...</td>\n",
       "      <td>1</td>\n",
       "      <td>0</td>\n",
       "      <td>0</td>\n",
       "      <td>1</td>\n",
       "      <td>1</td>\n",
       "      <td>0</td>\n",
       "      <td>0</td>\n",
       "      <td>Data Scientis</td>\n",
       "    </tr>\n",
       "    <tr>\n",
       "      <th>7810</th>\n",
       "      <td>CPRD Data Scientist</td>\n",
       "      <td>London</td>\n",
       "      <td>Medicines and Healthcare products Regulatory A...</td>\n",
       "      <td>We would like to reassure all applicants that ...</td>\n",
       "      <td>1</td>\n",
       "      <td>0</td>\n",
       "      <td>0</td>\n",
       "      <td>0</td>\n",
       "      <td>0</td>\n",
       "      <td>0</td>\n",
       "      <td>0</td>\n",
       "      <td>Data Scientis</td>\n",
       "    </tr>\n",
       "    <tr>\n",
       "      <th>7820</th>\n",
       "      <td>Data Scientist</td>\n",
       "      <td>Bromley</td>\n",
       "      <td>OSTC</td>\n",
       "      <td>Company Description\\r\\nIn just over 15 years, ...</td>\n",
       "      <td>1</td>\n",
       "      <td>0</td>\n",
       "      <td>0</td>\n",
       "      <td>1</td>\n",
       "      <td>1</td>\n",
       "      <td>0</td>\n",
       "      <td>0</td>\n",
       "      <td>Data Scientis</td>\n",
       "    </tr>\n",
       "    <tr>\n",
       "      <th>7826</th>\n",
       "      <td>Data Scientist</td>\n",
       "      <td>Bromley</td>\n",
       "      <td>OSTC</td>\n",
       "      <td>Company Description\\r\\nIn just over 15 years, ...</td>\n",
       "      <td>1</td>\n",
       "      <td>0</td>\n",
       "      <td>0</td>\n",
       "      <td>1</td>\n",
       "      <td>1</td>\n",
       "      <td>0</td>\n",
       "      <td>0</td>\n",
       "      <td>Data Scientis</td>\n",
       "    </tr>\n",
       "    <tr>\n",
       "      <th>7828</th>\n",
       "      <td>CPRD Data Scientist</td>\n",
       "      <td>London</td>\n",
       "      <td>Medicines and Healthcare products Regulatory A...</td>\n",
       "      <td>We would like to reassure all applicants that ...</td>\n",
       "      <td>1</td>\n",
       "      <td>0</td>\n",
       "      <td>0</td>\n",
       "      <td>0</td>\n",
       "      <td>0</td>\n",
       "      <td>0</td>\n",
       "      <td>0</td>\n",
       "      <td>Data Scientis</td>\n",
       "    </tr>\n",
       "  </tbody>\n",
       "</table>\n",
       "<p>979 rows × 12 columns</p>\n",
       "</div>"
      ],
      "text/plain": [
       "                                  Title Location  \\\n",
       "0                        Data Scientist  Bromley   \n",
       "1     Biostatistician / Data Scientist    London   \n",
       "2                        Data Scientist   London   \n",
       "3                 Junior Data Scientist   London   \n",
       "4                   Data Scientist Lead   London   \n",
       "...                                 ...      ...   \n",
       "7806                     Data Scientist  Bromley   \n",
       "7810                CPRD Data Scientist   London   \n",
       "7820                     Data Scientist  Bromley   \n",
       "7826                     Data Scientist  Bromley   \n",
       "7828                CPRD Data Scientist   London   \n",
       "\n",
       "                                                Company  \\\n",
       "0                                                  OSTC   \n",
       "1                                        Warman O'Brien   \n",
       "2                                            ctrlio Ltd   \n",
       "3                                             Novafutur   \n",
       "4                                   JPMorgan Chase Bank   \n",
       "...                                                 ...   \n",
       "7806                                               OSTC   \n",
       "7810  Medicines and Healthcare products Regulatory A...   \n",
       "7820                                               OSTC   \n",
       "7826                                               OSTC   \n",
       "7828  Medicines and Healthcare products Regulatory A...   \n",
       "\n",
       "                                            Description  python  R_yn  spark  \\\n",
       "0     Company Description\\r\\nIn just over 15 years, ...       1     0      0   \n",
       "1     Biostatistician / Data Scientist - London\\r\\nI...       1     0      0   \n",
       "2     ctrlio helps motor insurers win customers more...       1     0      1   \n",
       "3     This is an opportunity to become a Data Scient...       1     0      0   \n",
       "4     Position Overview & Responsibilities:\\r\\nThis ...       1     0      0   \n",
       "...                                                 ...     ...   ...    ...   \n",
       "7806  Company Description\\r\\nIn just over 15 years, ...       1     0      0   \n",
       "7810  We would like to reassure all applicants that ...       1     0      0   \n",
       "7820  Company Description\\r\\nIn just over 15 years, ...       1     0      0   \n",
       "7826  Company Description\\r\\nIn just over 15 years, ...       1     0      0   \n",
       "7828  We would like to reassure all applicants that ...       1     0      0   \n",
       "\n",
       "      aws  excel  SeniorDataScientist  JuniorDataScientist      seniority  \n",
       "0       1      1                    0                    0  Data Scientis  \n",
       "1       0      0                    0                    0  Data Scientis  \n",
       "2       1      0                    0                    0  Data Scientis  \n",
       "3       0      1                    0                    0         Junior  \n",
       "4       0      0                    0                    0  Data Scientis  \n",
       "...   ...    ...                  ...                  ...            ...  \n",
       "7806    1      1                    0                    0  Data Scientis  \n",
       "7810    0      0                    0                    0  Data Scientis  \n",
       "7820    1      1                    0                    0  Data Scientis  \n",
       "7826    1      1                    0                    0  Data Scientis  \n",
       "7828    0      0                    0                    0  Data Scientis  \n",
       "\n",
       "[979 rows x 12 columns]"
      ]
     },
     "execution_count": 416,
     "metadata": {},
     "output_type": "execute_result"
    }
   ],
   "source": [
    "df"
   ]
  },
  {
   "cell_type": "code",
   "execution_count": 410,
   "metadata": {},
   "outputs": [
    {
     "data": {
      "text/plain": [
       "Data Scientis    808\n",
       "senior           163\n",
       "Junior             8\n",
       "Name: seniority, dtype: int64"
      ]
     },
     "execution_count": 410,
     "metadata": {},
     "output_type": "execute_result"
    }
   ],
   "source": [
    "df['seniority']  = df['Title'].apply(seniority)\n",
    "df.seniority.value_counts()"
   ]
  },
  {
   "cell_type": "code",
   "execution_count": 424,
   "metadata": {},
   "outputs": [
    {
     "data": {
      "text/plain": [
       "<AxesSubplot:xlabel='Total Number', ylabel='seniority'>"
      ]
     },
     "execution_count": 424,
     "metadata": {},
     "output_type": "execute_result"
    },
    {
     "data": {
      "image/png": "[encoded data removed]",
      "text/plain": [
       "<Figure size 432x288 with 1 Axes>"
      ]
     },
     "metadata": {},
     "output_type": "display_data"
    }
   ],
   "source": [
    "group=df_cat.groupby('seniority').count().sort_values('Title',ascending=False).iloc[:11]\n",
    "\n",
    "ax=sns.barplot(data=group,y=group.index,x=group['Title'])\n",
    "ax.set(xlabel='Total Number')\n",
    "plt.ylabel(\"seniority\")\n",
    "ax\n"
   ]
  },
  {
   "cell_type": "code",
   "execution_count": null,
   "metadata": {},
   "outputs": [],
   "source": []
  },
  {
   "cell_type": "code",
   "execution_count": 273,
   "metadata": {},
   "outputs": [],
   "source": [
    "from wordcloud import WordCloud, ImageColorGenerator, STOPWORDS\n",
    "from nltk.corpus import stopwords\n",
    "from nltk.tokenize import word_tokenize"
   ]
  },
  {
   "cell_type": "code",
   "execution_count": 275,
   "metadata": {},
   "outputs": [
    {
     "data": {
      "image/png": "[encoded data removed]",
      "text/plain": [
       "<Figure size 720x720 with 1 Axes>"
      ]
     },
     "metadata": {},
     "output_type": "display_data"
    }
   ],
   "source": [
    "words = \" \".join(df['Description'])\n",
    "\n",
    "def punctuation_stop(text):\n",
    "    \"\"\"remove punctuation and stop words\"\"\"\n",
    "    filtered = []\n",
    "    stop_words = set(stopwords.words('english'))\n",
    "    word_tokens = word_tokenize(text)\n",
    "    for w in word_tokens:\n",
    "        if w not in stop_words and w.isalpha():\n",
    "            filtered.append(w.lower())\n",
    "    return filtered\n",
    "\n",
    "\n",
    "words_filtered = punctuation_stop(words)\n",
    "\n",
    "text = \" \".join([ele for ele in words_filtered])\n",
    "\n",
    "wc= WordCloud(background_color=\"white\", random_state=1,stopwords=STOPWORDS, max_words = 2000, width =800, height = 1500)\n",
    "wc.generate(text)\n",
    "\n",
    "plt.figure(figsize=[10,10])\n",
    "plt.imshow(wc,interpolation=\"bilinear\")\n",
    "plt.axis('off')\n",
    "plt.show()"
   ]
  },
  {
   "cell_type": "code",
   "execution_count": null,
   "metadata": {},
   "outputs": [],
   "source": []
  },
  {
   "cell_type": "code",
   "execution_count": null,
   "metadata": {},
   "outputs": [],
   "source": []
  },
  {
   "cell_type": "code",
   "execution_count": null,
   "metadata": {},
   "outputs": [],
   "source": []
  }
 ],
 "metadata": {
  "kernelspec": {
   "display_name": "Python 3",
   "language": "python",
   "name": "python3"
  },
  "language_info": {
   "codemirror_mode": {
    "name": "ipython",
    "version": 3
   },
   "file_extension": ".py",
   "mimetype": "text/x-python",
   "name": "python",
   "nbconvert_exporter": "python",
   "pygments_lexer": "ipython3",
   "version": "3.8.5"
  }
 },
 "nbformat": 4,
 "nbformat_minor": 4
}
